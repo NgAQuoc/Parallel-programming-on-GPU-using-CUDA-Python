{
  "cells": [
    {
      "cell_type": "markdown",
      "metadata": {
        "id": "5aMICRjeec7Y"
      },
      "source": [
        "\n",
        "<a href=\"https://www.nvidia.com/dli\"> <img src=\"images/DLI Header.png\" alt=\"Header\" style=\"width: 400px;\"/> </a>\n"
      ]
    },
    {
      "cell_type": "markdown",
      "metadata": {
        "id": "_ggiypeOesCM"
      },
      "source": [
        "#  Giới thiệu về CUDA Python với Numba\n",
        "\n",
        "Nền tảng tính toán **[CUDA](https://en.wikipedia.org/wiki/CUDA)** cho phép tăng tốc ứng dụng nhanh chóng bằng cách cho phép các developer thực thi code theo kiểu song song hàng loạt trên GPU NVIDA.\n",
        "\n",
        "**[Numba](http://numba.pydata.org/)** là một trình biên dịch hàm Python tức thời (a just-in-time python function compiler), hiển thị một giao diện đơn giản để tăng tốc các hàm Python tập trung vào số. Numba là một tùy chọn rất hấp dẫn dành cho các lập trình viên Python muốn GPU tăng tốc ứng dụng của họ mà không cần viết mã C/C++, đặc biệt là đối với các nhà phát triển đã thực hiện các thao tác tính toán nặng trên mảng NumPy. Numba có thể được sử dụng để tăng tốc các chức năng Python cho CPU, cũng như cho GPU NVIDIA. **Trọng tâm của khóa học này là các kỹ thuật cơ bản cần thiết để tăng tốc GPU cho các ứng dụng Python bằng cách sử dụng Numba.**"
      ]
    },
    {
      "cell_type": "markdown",
      "metadata": {
        "id": "gV3VxeLVh9nI"
      },
      "source": [
        "## Cấu trúc khóa học\n",
        "\n",
        "Khóa học này được chia thành **ba** phần chính:\n",
        "\n",
        "- _Giới thiệu về CUDA Python với Numba_\n",
        "- _Tùy chỉnh CUDA Kernels trong Python với Numba_\n",
        "- _Grids đa chiều và Shared Memory cho CUDA Python với Numba_\n",
        "\n",
        "Mỗi phần chứa một vấn đề đánh giá cuối cùng, việc hoàn thành thành công sẽ cho phép bạn kiếm được Chứng chỉ năng lực cho khóa học. Mỗi phần cũng có một phụ lục với các tài liệu nâng cao dành cho những bạn quan tâm."
      ]
    },
    {
      "cell_type": "markdown",
      "metadata": {
        "id": "95PjvNSoipQe"
      },
      "source": [
        "### Introduction to CUDA Python with Numba\n",
        "\n",
        "Trong phần đầu tiên này, trước tiên bạn sẽ tìm hiểu cách sử dụng Numba để biên dịch các chức năng cho CPU và sẽ được giới thiệu về hoạt động bên trong của trình biên dịch Numba. Sau đó, bạn sẽ tiếp tục tìm hiểu cách GPU tăng tốc các hàm mảng NumPy thông minh theo từng phần tử, cùng với một số kỹ thuật để di chuyển dữ liệu hiệu quả giữa máy chủ CPU và thiết bị GPU.\n",
        "\n",
        "Vào cuối phiên đầu tiên, bạn sẽ có thể tăng tốc GPU mã Python để thực hiện các hoạt động thông minh về phần tử trên mảng NumPy."
      ]
    },
    {
      "cell_type": "markdown",
      "metadata": {
        "id": "0wjI_CeXjfYL"
      },
      "source": [
        "### Custom CUDA Kernels in Python with Numba\n",
        "\n",
        "Trong phần thứ hai, bạn sẽ mở rộng khả năng của mình để có thể khởi chạy song song các chức năng tập trung vào số, tùy ý, không chỉ dựa trên phần tử trên GPU bằng cách viết các kernel CUDA tùy chỉnh. Để phục vụ mục tiêu này, bạn sẽ tìm hiểu về cách GPU NVIDIA thực thi mã song song. Ngoài ra, bạn sẽ được tiếp xúc với một số kỹ thuật lập trình song song cơ bản bao gồm cách phối hợp công việc của các luồng song song và cách giải quyết các điều kiện race. Bạn cũng sẽ tìm hiểu các kỹ thuật gỡ lỗi mã thực thi trên GPU.\n",
        "\n",
        "Đến cuối phần thứ hai, bạn sẽ sẵn sàng để GPU tăng tốc một loạt chức năng tập trung vào số đáng kinh ngạc trên các tập dữ liệu 1D."
      ]
    },
    {
      "cell_type": "markdown",
      "metadata": {
        "id": "al-UlPKrkhtl"
      },
      "source": [
        "### Multidimensional Grids and Shared Memory for CUDA Python with Numba\n",
        "\n",
        "Trong phần thứ ba, bạn sẽ bắt đầu làm việc song song với dữ liệu 2D và sẽ tìm hiểu cách sử dụng không gian bộ nhớ trên chip trên GPU được gọi là bộ nhớ dùng chung.\n",
        "\n",
        "Khi kết thúc phần thứ ba, bạn sẽ có thể viết mã tăng tốc GPU bằng Python bằng cách sử dụng Numba trên bộ dữ liệu 1D và 2D trong khi sử dụng một số chiến lược tối ưu hóa quan trọng nhất để viết mã tăng tốc GPU nhanh nhất quán."
      ]
    },
    {
      "cell_type": "markdown",
      "metadata": {
        "id": "VVQC3lo_lXY5"
      },
      "source": [
        "## Điều kiện tiên quyết của khóa học\n",
        "\n",
        "* Khả năng viết Python, cụ thể là viết và gọi các hàm, làm việc với các biến, vòng lặp và điều kiện cũng như imports.\n",
        "* Quen thuộc với thư viện NumPy Python dành cho Python tập trung vào số. Nếu bạn chưa bao giờ sử dụng NumPy, nhưng đã quen thuộc với Python, bạn có thể sẽ thấy việc sử dụng NumPy trong phiên này rất đơn giản. Nhận xét và liên kết được cung cấp khi một số làm rõ có thể hữu ích.\n",
        "* Hiểu biết ở mức độ cao về một số thuật ngữ khoa học máy tính như phân bổ bộ nhớ, loại giá trị, độ trễ và lõi xử lý.\n",
        "* Hiểu biết cơ bản về vectơ và ma trận, cũng như phép nhân ma trận."
      ]
    },
    {
      "cell_type": "markdown",
      "metadata": {
        "id": "T2XeQFLAlxuh"
      },
      "source": [
        "## Mục tiêu của Phần này\n",
        "\n",
        "Khi bạn hoàn thành phần này, bạn sẽ có thể:\n",
        "\n",
        "- Sử dụng Numba để biên dịch các hàm Python cho CPU.\n",
        "- Hiểu cách Numba biên dịch các hàm Python.\n",
        "- GPU tăng tốc ufuncs NumPy.\n",
        "- GPU tăng tốc các chức năng véc tơ viết tay.\n",
        "- Tối ưu hóa việc truyền dữ liệu giữa máy chủ CPU và thiết bị GPU."
      ]
    },
    {
      "cell_type": "markdown",
      "metadata": {
        "id": "tdzqJG2tmuJk"
      },
      "source": [
        "## Numba là gì?\n",
        "\n",
        "Numba là môt **trình biên dịch hàm (function compiler)**,**just-in-time**, **type-specializing** để tăng tốc code Python **tập trung vào số học** cho CPU hoặc GPU. Đó là một danh sách nhiều thuật ngữ, vì vậy hãy chia nhỏ các thuật ngữ đó:\n",
        "\n",
        "* **function compiler**: Numba biên dịch các hàm Python, không phải toàn bộ ứng dụng và không phải các phần của hàm. Numba không thay thế trình thông dịch Python của bạn mà chỉ là một mô-đun Python khác có thể biến một hàm thành một hàm (thường) nhanh hơn.\n",
        "* **type-specializing**: Numba tăng tốc chức năng của bạn bằng cách tạo triển khai chuyên biệt cho các loại dữ liệu cụ thể mà bạn đang sử dụng. Các hàm Python được thiết kế để hoạt động trên các kiểu dữ liệu chung, khiến chúng rất linh hoạt nhưng cũng rất chậm. Trong thực tế, bạn sẽ chỉ gọi một hàm với một số lượng nhỏ các loại đối số, vì vậy Numba sẽ tạo ra một triển khai nhanh cho từng bộ loại.\n",
        "* **just-in-time**: Numba dịch các chức năng khi chúng được gọi lần đầu tiên. Điều này đảm bảo trình biên dịch biết bạn sẽ sử dụng loại đối số nào. Điều này cũng cho phép Numba được sử dụng một cách tương tác trong Jupyter notebook dễ dàng như một ứng dụng truyền thống.\n",
        "* **numerically-focused**: Hiện tại, Numba tập trung vào các loại dữ liệu số, như `int`, `float` và `complex`. Hỗ trợ xử lý chuỗi rất hạn chế và nhiều trường hợp sử dụng chuỗi sẽ không hoạt động tốt trên GPU. Để có kết quả tốt nhất với Numba, bạn có thể sẽ sử dụng mảng NumPy.\n"
      ]
    },
    {
      "cell_type": "markdown",
      "metadata": {
        "id": "Qg0Ao_qYH3Xy"
      },
      "source": [
        "## Yêu cầu để sử dụng Numba\n",
        "\n",
        "Numba hỗ trợ nhiều loại hệ điều hành:\n",
        "\n",
        " * Windows 7 and later, 32 and 64-bit\n",
        " * macOS 10.9 and later, 64-bit\n",
        " * Linux (most anything >= RHEL 5), 32-bit and 64-bit\n",
        "\n",
        "và các phiên bản Python:\n",
        "\n",
        " * Python 2.7, 3.4-3.6\n",
        " * NumPy 1.10 and later\n",
        "\n",
        "và một loạt các phần cứng:\n",
        "\n",
        "* x86, x86_64/AMD64 CPUs\n",
        "* NVIDIA CUDA GPUs (Compute capability 3.0 and later, CUDA 8.0 and later)\n",
        "* AMD GPUs (experimental patches)\n",
        "* ARM (experimental patches)\n",
        "\n",
        "Đối với khóa học này, chúng tôi sẽ sử dụng Linux 64-bit và CUDA 9."
      ]
    },
    {
      "cell_type": "markdown",
      "metadata": {
        "id": "5S4C493zIn3c"
      },
      "source": [
        "## Bên cạnh đó: CUDA C/C++ vs Numba vs pyCUDA\n",
        "\n",
        "Numba không phải là cách duy nhất để lập trình với CUDA. Cho đến nay, cách phổ biến nhất để lập trình trong CUDA là với phần mở rộng ngôn ngữ CUDA C/C++. Liên quan đến Python, [pyCUDA](https://documen.tician.de/pycuda/), ngoài Numba, là một giải pháp thay thế cho mã Python tăng tốc GPU. Chúng tôi sẽ vẫn tập trung vào Numba trong suốt khóa học này, nhưng việc so sánh nhanh ba tùy chọn vừa được nêu tên rất đáng được đề cập trước khi chúng tôi bắt đầu, chỉ dành cho một bối cảnh nhỏ.\n",
        "\n",
        "**CUDA C/C++**:\n",
        "- Cách phổ biến, hiệu quả và linh hoạt nhất để sử dụng CUDA\n",
        "- Tăng tốc ứng dụng C/C++\n",
        "\n",
        "**pyCUDA**:\n",
        "- Hiển thị toàn bộ CUDA C/C++ API\n",
        "- Là tùy chọn CUDA hiệu quả nhất có sẵn cho Python\n",
        "- Yêu cầu viết mã C bằng Python của bạn và nói chung, rất nhiều sửa đổi mã\n",
        "\n",
        "**Numba**:\n",
        "- Có khả năng kém hiệu quả hơn pyCUDA\n",
        "- Không (chưa?) tiết lộ toàn bộ CUDA C/C++ API\n",
        "- Vẫn cho phép tăng tốc lớn, thường với rất ít sửa đổi mã\n",
        "- Cho phép các nhà phát triển thuận tiện viết mã trực tiếp bằng Python\n",
        "- Cũng tối ưu mã Python cho CPU"
      ]
    },
    {
      "cell_type": "markdown",
      "metadata": {
        "id": "R37AQD17JkTq"
      },
      "source": [
        "## Các bước đầu tiên: Biên dịch cho CPU\n",
        "\n",
        "Nếu bạn còn nhớ, Numba có thể được sử dụng để tối ưu hóa mã cho CPU hoặc GPU. Như phần giới thiệu và trước khi chuyển sang phần tăng tốc GPU, hãy viết hàm Numba đầu tiên của chúng ta và biên dịch nó cho **CPU**. Khi làm như vậy, chúng ta sẽ dễ dàng tiếp cận cú pháp Numba và sau này cũng sẽ có cơ hội so sánh hiệu suất của mã Numba được tối ưu hóa cho CPU với mã Numba được tăng cường GPU.\n",
        "\n",
        "Trình biên dịch Numba thường được kích hoạt bằng cách áp dụng [**function decorator**](https://en.wikipedia.org/wiki/Python_syntax_and_semantics#Decorators) cho một hàm Python. Decorators là công cụ sửa đổi chức năng biến đổi các hàm Python mà chúng decorate, sử dụng một cú pháp rất đơn giản. Ở đây chúng ta sẽ sử dụng trình biên dịch decorator CPU của Numba là `@jit`:\n"
      ]
    },
    {
      "cell_type": "code",
      "execution_count": 1,
      "metadata": {
        "id": "Qd_NdfPcLW5M"
      },
      "outputs": [],
      "source": [
        "from numba import jit\n",
        "import math\n",
        "\n",
        "# Đây là một cú pháp function decorator và tương đương với `hypot=jit(hypot)`.\n",
        "# Trình biên dịch Numba chỉ một chức năng bạn có thể gọi bất cứ khi nào bạn muốn\n",
        "\n",
        "@jit\n",
        "def hypot(x,y):\n",
        "  # Được cài đặt từ https://en.wikipedia.org/wiki/Hypot\n",
        "  x=abs(x)\n",
        "  y=abs(y)\n",
        "  t=min(x,y)\n",
        "  x=max(x,y)\n",
        "  t=t/x\n",
        "  return x*math.sqrt(1+t*t)"
      ]
    },
    {
      "cell_type": "markdown",
      "metadata": {
        "id": "UG79Czy4MmSj"
      },
      "source": [
        "Hãy thử tính toán cạnh huyền với chúng tôi:"
      ]
    },
    {
      "cell_type": "code",
      "execution_count": 2,
      "metadata": {
        "colab": {
          "base_uri": "https://localhost:8080/"
        },
        "id": "MuBFO2uQMwOC",
        "outputId": "f1625f9e-1dd2-4a00-b23b-37398f809d6f"
      },
      "outputs": [
        {
          "data": {
            "text/plain": [
              "5.0"
            ]
          },
          "execution_count": 2,
          "metadata": {},
          "output_type": "execute_result"
        }
      ],
      "source": [
        "hypot(3.0,4.0)"
      ]
    },
    {
      "cell_type": "markdown",
      "metadata": {
        "id": "-sOWFCtnNAEm"
      },
      "source": [
        "Chúng tôi sẽ đi vào chi tiết hơn bên dưới về điều gì sẽ xảy ra khi `hypot` được gọi, nhưng bây giờ hãy biết rằng lần đầu tiên chúng tôi gọi `hypot`, trình biên dịch được kích hoạt và biên dịch mã máy triển khai chức năng cho các đầu vào float. Numba cũng lưu cách triển khai Python gốc của hàm trong thuộc tính `.py_func`, vì vậy chúng tôi có thể gọi mã Python gốc để đảm bảo rằng chúng tôi nhận được câu trả lời tương tự:"
      ]
    },
    {
      "cell_type": "code",
      "execution_count": 3,
      "metadata": {
        "colab": {
          "base_uri": "https://localhost:8080/"
        },
        "id": "kLvDqRliNMgO",
        "outputId": "b00f9d79-fa81-4874-8ef3-0a7652b2c3ba"
      },
      "outputs": [
        {
          "data": {
            "text/plain": [
              "5.0"
            ]
          },
          "execution_count": 3,
          "metadata": {},
          "output_type": "execute_result"
        }
      ],
      "source": [
        "hypot.py_func(3.0,4.0)"
      ]
    },
    {
      "cell_type": "markdown",
      "metadata": {
        "id": "Po7WndhqNWol"
      },
      "source": [
        "### Benchmarking\n",
        "\n",
        "Một phần quan trong của việc sử dụng Numba là đo lường hiệu suất của code mới của bạn. Hãy xem nếu chúng tôi thực sự tăng tốc bất cứ điều gì lên. Cách dễ nhất để thực hiện việc này trong Jupyter notebook, giống như sổ tay mà phiên này đang chayk, là sử dụng [`%timeit` magic function](https://ipython.readthedocs.io/en/stable/interactive/magics.html#magic-timeit). Trước tiên hãy hãy đo tốc độ của Python gốc:"
      ]
    },
    {
      "cell_type": "code",
      "execution_count": 4,
      "metadata": {
        "colab": {
          "base_uri": "https://localhost:8080/"
        },
        "id": "uxIcUu8BOGSC",
        "outputId": "09d3179f-67c0-4970-f107-e19b81547a4d"
      },
      "outputs": [
        {
          "name": "stdout",
          "output_type": "stream",
          "text": [
            "626 ns ± 49.1 ns per loop (mean ± std. dev. of 7 runs, 1000000 loops each)\n"
          ]
        }
      ],
      "source": [
        "%timeit hypot.py_func(3.0,4.0)"
      ]
    },
    {
      "cell_type": "markdown",
      "metadata": {
        "id": "82tufdgGORr_"
      },
      "source": [
        "Magic `%timeit` chạy câu lệnh nhiều lần để có được ước tính chính xác về thời gian chạy. Nó cũng trả về thời gian tốt nhất theo mặc định, rất hữu ích để giảm khả năng các sự kiện nền ngẫu nhiên ảnh hưởng đến phép đo của bạn. Cách tiếp cận tốt nhất trong 3 cũng đảm bảo rằng thời gian biên dịch trong lần gọi đầu tiên không làm sai lệch kết quả:"
      ]
    },
    {
      "cell_type": "code",
      "execution_count": 5,
      "metadata": {
        "colab": {
          "base_uri": "https://localhost:8080/"
        },
        "id": "pBRXtYdSOvkb",
        "outputId": "f216d5c0-c5ea-4ffb-c2ee-d03124fde216"
      },
      "outputs": [
        {
          "name": "stdout",
          "output_type": "stream",
          "text": [
            "310 ns ± 92.9 ns per loop (mean ± std. dev. of 7 runs, 1000000 loops each)\n"
          ]
        }
      ],
      "source": [
        "%timeit hypot(3.0,4.0)"
      ]
    },
    {
      "cell_type": "markdown",
      "metadata": {
        "id": "BoPO5A3dO2ze"
      },
      "source": [
        "Numba đã làm khá tốt chức năng này. Nó chắc chắn nhanh hơn phiên bản Python thuần túy. Tất nhiên, hàm `hypot` đã có sẵn trong mô-đun Python, hãy xem nó so sánh như thế nào:"
      ]
    },
    {
      "cell_type": "code",
      "execution_count": 6,
      "metadata": {
        "colab": {
          "base_uri": "https://localhost:8080/"
        },
        "id": "T6T8JVgMO7bC",
        "outputId": "04c4d618-4a70-4988-98d3-bb89cae1884f"
      },
      "outputs": [
        {
          "name": "stdout",
          "output_type": "stream",
          "text": [
            "223 ns ± 62.1 ns per loop (mean ± std. dev. of 7 runs, 10000000 loops each)\n"
          ]
        }
      ],
      "source": [
        "%timeit math.hypot(3.0,4.0)"
      ]
    },
    {
      "cell_type": "markdown",
      "metadata": {
        "id": "XSWH2NqEPFop"
      },
      "source": [
        "Python tích hợp thậm chí còn nhanh hơn Numba! Điều này là do Numba giới thiệu một số chi phí cho mỗi lệnh gọi hàm lớn hơn chi phí gọi hàm của chính Python. Các chức năng cực nhanh (như ở trên) sẽ bị ảnh hưởng bởi điều này. (Ngoài ra, nếu bạn gọi một hàm Numba từ một hàm khác, sẽ có rất ít chi phí hoạt động cho hàm, đôi khi thậm chí bằng 0 nếu trình biên dịch nội tuyến hàm này vào hàm kia. Nói tóm lại, hãy luôn đánh giá các hàm của bạn để có bằng chứng về tốc độ tăng lên.)"
      ]
    },
    {
      "cell_type": "markdown",
      "metadata": {
        "id": "9jTBQ_s0QJUR"
      },
      "source": [
        "### Bài tập: Sử dụng Numba để Biên dịch Hàm cho CPU\n",
        "\n",
        "Hàm sau sử dụng [Phương pháp Monte Carlo để xác định số Pi](https://academo.org/demos/estimating-pi-monte-carlo/)(mã nguồn từ [trang chủ Numba](http://numba.pydata.org/)). Bản thân chức năng này đã hoạt động nên đừng lo lắng về các chi tiết triển khai toán học.\n",
        "\n",
        "Hoàn thành hai `TODO` để biên dịch `monte_carlo_pi` với Numba trước khi thực hiện 3 ô sau đây sẽ:\n",
        "\n",
        "   1. Xác nhận phiên bản đã biên dịch đang hoạt động giống như phiên bản chưa biên dịch.\n",
        "   2. Điểm chuẩn phiên bản chưa được biên dịch.\n",
        "   3. Benchmark phiên bản đã biên dịch.\n",
        "\n",
        "Nếu bạn gặp khó khăn, hãy kiểm tra [the solution](solutions/monte_carlo_pi_solution.py)."
      ]
    },
    {
      "cell_type": "code",
      "execution_count": 7,
      "metadata": {
        "id": "DVWlE0wWRlH6"
      },
      "outputs": [],
      "source": [
        "nsamples=1000000"
      ]
    },
    {
      "cell_type": "code",
      "execution_count": 8,
      "metadata": {
        "id": "G5FPxJU3Rzr9"
      },
      "outputs": [],
      "source": [
        "# TODO: Import Numba's just-in-time compiler function\n",
        "import random\n",
        "@jit\n",
        "\n",
        "# TODO: Use the Numba compiler to compile this function\n",
        "def monte_carlo_pi(nsamples):\n",
        "  acc=0\n",
        "  for i in range(nsamples):\n",
        "    x=random.random()\n",
        "    y=random.random()\n",
        "    if (x**2+y**2)<1.0:\n",
        "      acc+=1\n",
        "    return 4.0*acc/nsamples"
      ]
    },
    {
      "cell_type": "code",
      "execution_count": 9,
      "metadata": {
        "id": "46KdxIefUVO7"
      },
      "outputs": [],
      "source": [
        "# Chúng tôi sẽ sử dụng thư viện `testing của numpy để xác nhận các phiên bản đã biên dịch và chưa biên dịch chạy giống nhau\n",
        "from numpy import testing\n",
        "\n",
        "# Assertion này sẽ thất bại cho đến khi bạn hoàn thành thành cộng ở cell phía trên\n",
        "testing.assert_almost_equal(monte_carlo_pi(nsamples), monte_carlo_pi.py_func(nsamples), decimal=2)"
      ]
    },
    {
      "cell_type": "code",
      "execution_count": 10,
      "metadata": {
        "colab": {
          "base_uri": "https://localhost:8080/"
        },
        "id": "n791EkjWVSmz",
        "outputId": "f417f252-1848-4a40-940d-2e43cb78c548"
      },
      "outputs": [
        {
          "name": "stdout",
          "output_type": "stream",
          "text": [
            "231 ns ± 6.29 ns per loop (mean ± std. dev. of 7 runs, 1000000 loops each)\n"
          ]
        }
      ],
      "source": [
        "%timeit monte_carlo_pi(nsamples)"
      ]
    },
    {
      "cell_type": "code",
      "execution_count": 11,
      "metadata": {
        "colab": {
          "base_uri": "https://localhost:8080/"
        },
        "id": "y765a01xVXhu",
        "outputId": "3fb81336-5d2f-4df6-a996-d50c07f63cdd"
      },
      "outputs": [
        {
          "name": "stdout",
          "output_type": "stream",
          "text": [
            "804 ns ± 49.2 ns per loop (mean ± std. dev. of 7 runs, 1000000 loops each)\n"
          ]
        }
      ],
      "source": [
        "%timeit monte_carlo_pi.py_func(nsamples)"
      ]
    },
    {
      "cell_type": "markdown",
      "metadata": {
        "id": "e4GexWXaVpVb"
      },
      "source": [
        "## Cách thức hoạt động của Numba\n",
        "\n",
        "Bây giờ bạn đã có một chút bẩn tay khi sử dụng trình biên dịch Numba, hãy xem điều gì đang thực sự diễn ra bên trong. Lần đầu tiên chúng tôi gọi hàm `hypot` được bao bọc bởi Numba, quy trình sau đây đã được bắt đầu:\n",
        "\n",
        "![Numba Flowchart](images/numba_flowchart.png \"Quá trình biên dịch\")\n",
        "\n",
        "Chúng ta có thể xem kết quả của suy luận kiểu bằng cách sử dụng phương thức `.inspect_types()`, phương thức này sẽ in phiên bản có chú thích của mã nguồn:"
      ]
    },
    {
      "cell_type": "code",
      "execution_count": 12,
      "metadata": {
        "colab": {
          "base_uri": "https://localhost:8080/"
        },
        "id": "oMMCmJWxV9FH",
        "outputId": "2ad33008-38d1-4f91-dcfb-d70b287f4c64"
      },
      "outputs": [
        {
          "name": "stdout",
          "output_type": "stream",
          "text": [
            "hypot (float64, float64)\n",
            "--------------------------------------------------------------------------------\n",
            "# File: <ipython-input-1-f090a3c15f35>\n",
            "# --- LINE 7 --- \n",
            "\n",
            "@jit\n",
            "\n",
            "# --- LINE 8 --- \n",
            "\n",
            "def hypot(x,y):\n",
            "\n",
            "  # --- LINE 9 --- \n",
            "\n",
            "  # Được cài đặt từ https://en.wikipedia.org/wiki/Hypot\n",
            "\n",
            "  # --- LINE 10 --- \n",
            "  # label 0\n",
            "  #   x = arg(0, name=x)  :: float64\n",
            "  #   y = arg(1, name=y)  :: float64\n",
            "  #   $2load_global.0 = global(abs: <built-in function abs>)  :: Function(<built-in function abs>)\n",
            "  #   x.1 = call $2load_global.0(x, func=$2load_global.0, args=[Var(x, <ipython-input-1-f090a3c15f35>:10)], kws=(), vararg=None, varkwarg=None, target=None)  :: (float64,) -> float64\n",
            "  #   del x\n",
            "  #   del $2load_global.0\n",
            "\n",
            "  x=abs(x)\n",
            "\n",
            "  # --- LINE 11 --- \n",
            "  #   $10load_global.3 = global(abs: <built-in function abs>)  :: Function(<built-in function abs>)\n",
            "  #   y.1 = call $10load_global.3(y, func=$10load_global.3, args=[Var(y, <ipython-input-1-f090a3c15f35>:10)], kws=(), vararg=None, varkwarg=None, target=None)  :: (float64,) -> float64\n",
            "  #   del y\n",
            "  #   del $10load_global.3\n",
            "\n",
            "  y=abs(y)\n",
            "\n",
            "  # --- LINE 12 --- \n",
            "  #   $18load_global.6 = global(min: <built-in function min>)  :: Function(<built-in function min>)\n",
            "  #   t = call $18load_global.6(x.1, y.1, func=$18load_global.6, args=[Var(x.1, <ipython-input-1-f090a3c15f35>:10), Var(y.1, <ipython-input-1-f090a3c15f35>:11)], kws=(), vararg=None, varkwarg=None, target=None)  :: (float64, float64) -> float64\n",
            "  #   del $18load_global.6\n",
            "\n",
            "  t=min(x,y)\n",
            "\n",
            "  # --- LINE 13 --- \n",
            "  #   $28load_global.10 = global(max: <built-in function max>)  :: Function(<built-in function max>)\n",
            "  #   x.2 = call $28load_global.10(x.1, y.1, func=$28load_global.10, args=[Var(x.1, <ipython-input-1-f090a3c15f35>:10), Var(y.1, <ipython-input-1-f090a3c15f35>:11)], kws=(), vararg=None, varkwarg=None, target=None)  :: (float64, float64) -> float64\n",
            "  #   del y.1\n",
            "  #   del x.1\n",
            "  #   del $28load_global.10\n",
            "\n",
            "  x=max(x,y)\n",
            "\n",
            "  # --- LINE 14 --- \n",
            "  #   t.1 = t / x.2  :: float64\n",
            "  #   del t\n",
            "\n",
            "  t=t/x\n",
            "\n",
            "  # --- LINE 15 --- \n",
            "  #   $48load_global.18 = global(math: <module 'math' (built-in)>)  :: Module(<module 'math' (built-in)>)\n",
            "  #   $50load_method.19 = getattr(value=$48load_global.18, attr=sqrt)  :: Function(<built-in function sqrt>)\n",
            "  #   del $48load_global.18\n",
            "  #   $const52.20 = const(int, 1)  :: Literal[int](1)\n",
            "  #   $58binary_multiply.23 = t.1 * t.1  :: float64\n",
            "  #   del t.1\n",
            "  #   $60binary_add.24 = $const52.20 + $58binary_multiply.23  :: float64\n",
            "  #   del $const52.20\n",
            "  #   del $58binary_multiply.23\n",
            "  #   $62call_method.25 = call $50load_method.19($60binary_add.24, func=$50load_method.19, args=[Var($60binary_add.24, <ipython-input-1-f090a3c15f35>:15)], kws=(), vararg=None, varkwarg=None, target=None)  :: (float64,) -> float64\n",
            "  #   del $60binary_add.24\n",
            "  #   del $50load_method.19\n",
            "  #   $64binary_multiply.26 = x.2 * $62call_method.25  :: float64\n",
            "  #   del x.2\n",
            "  #   del $62call_method.25\n",
            "  #   $66return_value.27 = cast(value=$64binary_multiply.26)  :: float64\n",
            "  #   del $64binary_multiply.26\n",
            "  #   return $66return_value.27\n",
            "\n",
            "  return x*math.sqrt(1+t*t)\n",
            "\n",
            "\n",
            "================================================================================\n"
          ]
        }
      ],
      "source": [
        "hypot.inspect_types()"
      ]
    },
    {
      "cell_type": "markdown",
      "metadata": {
        "id": "3SuAJVPWWSND"
      },
      "source": [
        "Lưu ý rằng tên loại của Numba có xu hướng phản ánh [tên loại NumPy](https://docs.scipy.org/doc/numpy-1.13.0/user/basics.types.html), vì vậy `float` của Python là một `float64` (còn được gọi là \"double precision\" trong các ngôn ngữ khác). Việc xem xét các loại dữ liệu đôi khi có thể quan trọng trong mã GPU vì hiệu suất tính toán `float32` và `float64` sẽ rất khác nhau trên các thiết bị CUDA. Nếu thuật toán của bạn có thể thu được kết quả chính xác khi sử dụng `float32`, thì có lẽ bạn nên sử dụng loại dữ liệu đó, vì việc truyền tới `float64` có thể làm chậm chức năng một cách đáng kể.\n"
      ]
    },
    {
      "cell_type": "markdown",
      "metadata": {
        "id": "hxk3s23XWn7z"
      },
      "source": [
        "## Object and nopython Modes\n",
        "\n",
        "Numba không thể biên dịch tất cả mã Python. Một số chức năng không có bản dịch Numba và một số loại Python hoàn toàn không thể được biên dịch một cách hiệu quả. Ví dụ, Numba không hỗ trợ dictionary (tại thời điểm viết bài này). Ở đây, hãy thử biên dịch một số mã Python mà Numba chưa biết cách biên dịch:"
      ]
    },
    {
      "cell_type": "code",
      "execution_count": 13,
      "metadata": {
        "colab": {
          "base_uri": "https://localhost:8080/",
          "height": 585
        },
        "id": "c1OSO5d9HSmg",
        "outputId": "2b927694-5c8f-49ac-fe12-3f5df734ab02"
      },
      "outputs": [
        {
          "name": "stderr",
          "output_type": "stream",
          "text": [
            "<ipython-input-13-9ab63214e97a>:1: NumbaWarning: \n",
            "Compilation is falling back to object mode WITH looplifting enabled because Function \"cannot_compile\" failed type inference due to: non-precise type pyobject\n",
            "During: typing of argument at <ipython-input-13-9ab63214e97a> (3)\n",
            "\n",
            "File \"<ipython-input-13-9ab63214e97a>\", line 3:\n",
            "def cannot_compile(x):\n",
            "    return x['key']\n",
            "    ^\n",
            "\n",
            "  @jit\n",
            "/usr/local/lib/python3.10/dist-packages/numba/core/object_mode_passes.py:151: NumbaWarning: Function \"cannot_compile\" was compiled in object mode without forceobj=True.\n",
            "\n",
            "File \"<ipython-input-13-9ab63214e97a>\", line 2:\n",
            "@jit\n",
            "def cannot_compile(x):\n",
            "^\n",
            "\n",
            "  warnings.warn(errors.NumbaWarning(warn_msg,\n",
            "/usr/local/lib/python3.10/dist-packages/numba/core/object_mode_passes.py:161: NumbaDeprecationWarning: \n",
            "Fall-back from the nopython compilation path to the object mode compilation path has been detected, this is deprecated behaviour.\n",
            "\n",
            "For more information visit https://numba.readthedocs.io/en/stable/reference/deprecation.html#deprecation-of-object-mode-fall-back-behaviour-when-using-jit\n",
            "\n",
            "File \"<ipython-input-13-9ab63214e97a>\", line 2:\n",
            "@jit\n",
            "def cannot_compile(x):\n",
            "^\n",
            "\n",
            "  warnings.warn(errors.NumbaDeprecationWarning(msg,\n"
          ]
        },
        {
          "data": {
            "application/vnd.google.colaboratory.intrinsic+json": {
              "type": "string"
            },
            "text/plain": [
              "'value'"
            ]
          },
          "execution_count": 13,
          "metadata": {},
          "output_type": "execute_result"
        }
      ],
      "source": [
        "@jit\n",
        "def cannot_compile(x):\n",
        "    return x['key']\n",
        "\n",
        "cannot_compile(dict(key='value'))"
      ]
    },
    {
      "cell_type": "markdown",
      "metadata": {
        "id": "VhOAxUxoH427"
      },
      "source": [
        "Với những gì chúng tôi vừa nói, bạn có thể ngạc nhiên rằng ô ở trên được thực thi mà không gặp bất kỳ sự cố nào. Điều này là do theo mặc định, Numba sẽ quay trở lại một chế độ, được gọi là **object mode**, chế độ này không thực hiện chuyên môn hóa loại. Object mode tồn tại để kích hoạt chức năng Numba khác, nhưng trong nhiều trường hợp, bạn muốn Numba cho bạn biết nếu suy luận kiểu không thành công. Bạn có thể buộc **nopython mode** (chế độ biên dịch khác) bằng cách chuyển đối số `nopython` cho trình trang trí:"
      ]
    },
    {
      "cell_type": "code",
      "execution_count": 14,
      "metadata": {
        "colab": {
          "base_uri": "https://localhost:8080/",
          "height": 542
        },
        "id": "T6WY4ufpLkG4",
        "outputId": "72606268-1881-46e9-b09b-895ed22266b1"
      },
      "outputs": [
        {
          "ename": "TypingError",
          "evalue": "ignored",
          "output_type": "error",
          "traceback": [
            "\u001b[0;31m---------------------------------------------------------------------------\u001b[0m",
            "\u001b[0;31mTypingError\u001b[0m                               Traceback (most recent call last)",
            "\u001b[0;32m<ipython-input-14-d28954424473>\u001b[0m in \u001b[0;36m<cell line: 5>\u001b[0;34m()\u001b[0m\n\u001b[1;32m      3\u001b[0m   \u001b[0;32mreturn\u001b[0m \u001b[0mx\u001b[0m\u001b[0;34m[\u001b[0m\u001b[0;34m'key'\u001b[0m\u001b[0;34m]\u001b[0m\u001b[0;34m\u001b[0m\u001b[0;34m\u001b[0m\u001b[0m\n\u001b[1;32m      4\u001b[0m \u001b[0;34m\u001b[0m\u001b[0m\n\u001b[0;32m----> 5\u001b[0;31m \u001b[0mcannot_compile\u001b[0m\u001b[0;34m(\u001b[0m\u001b[0mdict\u001b[0m\u001b[0;34m(\u001b[0m\u001b[0mkey\u001b[0m\u001b[0;34m=\u001b[0m\u001b[0;34m'value'\u001b[0m\u001b[0;34m)\u001b[0m\u001b[0;34m)\u001b[0m\u001b[0;34m\u001b[0m\u001b[0;34m\u001b[0m\u001b[0m\n\u001b[0m",
            "\u001b[0;32m/usr/local/lib/python3.10/dist-packages/numba/core/dispatcher.py\u001b[0m in \u001b[0;36m_compile_for_args\u001b[0;34m(self, *args, **kws)\u001b[0m\n\u001b[1;32m    466\u001b[0m                 \u001b[0me\u001b[0m\u001b[0;34m.\u001b[0m\u001b[0mpatch_message\u001b[0m\u001b[0;34m(\u001b[0m\u001b[0mmsg\u001b[0m\u001b[0;34m)\u001b[0m\u001b[0;34m\u001b[0m\u001b[0;34m\u001b[0m\u001b[0m\n\u001b[1;32m    467\u001b[0m \u001b[0;34m\u001b[0m\u001b[0m\n\u001b[0;32m--> 468\u001b[0;31m             \u001b[0merror_rewrite\u001b[0m\u001b[0;34m(\u001b[0m\u001b[0me\u001b[0m\u001b[0;34m,\u001b[0m \u001b[0;34m'typing'\u001b[0m\u001b[0;34m)\u001b[0m\u001b[0;34m\u001b[0m\u001b[0;34m\u001b[0m\u001b[0m\n\u001b[0m\u001b[1;32m    469\u001b[0m         \u001b[0;32mexcept\u001b[0m \u001b[0merrors\u001b[0m\u001b[0;34m.\u001b[0m\u001b[0mUnsupportedError\u001b[0m \u001b[0;32mas\u001b[0m \u001b[0me\u001b[0m\u001b[0;34m:\u001b[0m\u001b[0;34m\u001b[0m\u001b[0;34m\u001b[0m\u001b[0m\n\u001b[1;32m    470\u001b[0m             \u001b[0;31m# Something unsupported is present in the user code, add help info\u001b[0m\u001b[0;34m\u001b[0m\u001b[0;34m\u001b[0m\u001b[0m\n",
            "\u001b[0;32m/usr/local/lib/python3.10/dist-packages/numba/core/dispatcher.py\u001b[0m in \u001b[0;36merror_rewrite\u001b[0;34m(e, issue_type)\u001b[0m\n\u001b[1;32m    407\u001b[0m                 \u001b[0;32mraise\u001b[0m \u001b[0me\u001b[0m\u001b[0;34m\u001b[0m\u001b[0;34m\u001b[0m\u001b[0m\n\u001b[1;32m    408\u001b[0m             \u001b[0;32melse\u001b[0m\u001b[0;34m:\u001b[0m\u001b[0;34m\u001b[0m\u001b[0;34m\u001b[0m\u001b[0m\n\u001b[0;32m--> 409\u001b[0;31m                 \u001b[0;32mraise\u001b[0m \u001b[0me\u001b[0m\u001b[0;34m.\u001b[0m\u001b[0mwith_traceback\u001b[0m\u001b[0;34m(\u001b[0m\u001b[0;32mNone\u001b[0m\u001b[0;34m)\u001b[0m\u001b[0;34m\u001b[0m\u001b[0;34m\u001b[0m\u001b[0m\n\u001b[0m\u001b[1;32m    410\u001b[0m \u001b[0;34m\u001b[0m\u001b[0m\n\u001b[1;32m    411\u001b[0m         \u001b[0margtypes\u001b[0m \u001b[0;34m=\u001b[0m \u001b[0;34m[\u001b[0m\u001b[0;34m]\u001b[0m\u001b[0;34m\u001b[0m\u001b[0;34m\u001b[0m\u001b[0m\n",
            "\u001b[0;31mTypingError\u001b[0m: Failed in nopython mode pipeline (step: nopython frontend)\nnon-precise type pyobject\nDuring: typing of argument at <ipython-input-14-d28954424473> (3)\n\nFile \"<ipython-input-14-d28954424473>\", line 3:\ndef cannot_compile(x):\n  return x['key']\n  ^ \n\nThis error may have been caused by the following argument(s):\n- argument 0: Cannot determine Numba type of <class 'dict'>\n"
          ]
        }
      ],
      "source": [
        "@jit(nopython=True)\n",
        "def cannot_compile(x):\n",
        "  return x['key']\n",
        "\n",
        "cannot_compile(dict(key='value'))"
      ]
    },
    {
      "cell_type": "markdown",
      "metadata": {
        "id": "x0gZVJyeL5BM"
      },
      "source": [
        "Bây giờ chúng ta nhận được một exception khi Numba cố gắng biên dịch hàm và nếu bạn cuộn xuống cuối đầu ra exception, bạn sẽ thấy một lỗi mô tả vấn đề cơ bản:\n",
        "\n",
        "```\n",
        "- argument 0: cannot determine Numba type of <class 'dict'>\n",
        "```\n",
        "\n",
        "**Sử dụng chế độ `nopython` là cách tốt nhất và được đề xuất để sử dụng `jit` vì nó mang lại hiệu suất tốt nhất.**\n",
        "\n",
        "Numba cung cấp một trình decorator khác `njit` là một alias của `jit(nopython=True)`:"
      ]
    },
    {
      "cell_type": "code",
      "execution_count": 15,
      "metadata": {
        "colab": {
          "base_uri": "https://localhost:8080/",
          "height": 542
        },
        "id": "HQUEtBWtNLqg",
        "outputId": "583bf88e-4cc3-4ce3-942c-c85567d24b5b"
      },
      "outputs": [
        {
          "ename": "TypingError",
          "evalue": "ignored",
          "output_type": "error",
          "traceback": [
            "\u001b[0;31m---------------------------------------------------------------------------\u001b[0m",
            "\u001b[0;31mTypingError\u001b[0m                               Traceback (most recent call last)",
            "\u001b[0;32m<ipython-input-15-d5f6a94eaac5>\u001b[0m in \u001b[0;36m<cell line: 7>\u001b[0;34m()\u001b[0m\n\u001b[1;32m      5\u001b[0m   \u001b[0;32mreturn\u001b[0m \u001b[0mx\u001b[0m\u001b[0;34m[\u001b[0m\u001b[0;34m'key'\u001b[0m\u001b[0;34m]\u001b[0m\u001b[0;34m\u001b[0m\u001b[0;34m\u001b[0m\u001b[0m\n\u001b[1;32m      6\u001b[0m \u001b[0;34m\u001b[0m\u001b[0m\n\u001b[0;32m----> 7\u001b[0;31m \u001b[0mcannot_compile\u001b[0m\u001b[0;34m(\u001b[0m\u001b[0mdict\u001b[0m\u001b[0;34m(\u001b[0m\u001b[0mkey\u001b[0m\u001b[0;34m=\u001b[0m\u001b[0;34m'value'\u001b[0m\u001b[0;34m)\u001b[0m\u001b[0;34m)\u001b[0m\u001b[0;34m\u001b[0m\u001b[0;34m\u001b[0m\u001b[0m\n\u001b[0m",
            "\u001b[0;32m/usr/local/lib/python3.10/dist-packages/numba/core/dispatcher.py\u001b[0m in \u001b[0;36m_compile_for_args\u001b[0;34m(self, *args, **kws)\u001b[0m\n\u001b[1;32m    466\u001b[0m                 \u001b[0me\u001b[0m\u001b[0;34m.\u001b[0m\u001b[0mpatch_message\u001b[0m\u001b[0;34m(\u001b[0m\u001b[0mmsg\u001b[0m\u001b[0;34m)\u001b[0m\u001b[0;34m\u001b[0m\u001b[0;34m\u001b[0m\u001b[0m\n\u001b[1;32m    467\u001b[0m \u001b[0;34m\u001b[0m\u001b[0m\n\u001b[0;32m--> 468\u001b[0;31m             \u001b[0merror_rewrite\u001b[0m\u001b[0;34m(\u001b[0m\u001b[0me\u001b[0m\u001b[0;34m,\u001b[0m \u001b[0;34m'typing'\u001b[0m\u001b[0;34m)\u001b[0m\u001b[0;34m\u001b[0m\u001b[0;34m\u001b[0m\u001b[0m\n\u001b[0m\u001b[1;32m    469\u001b[0m         \u001b[0;32mexcept\u001b[0m \u001b[0merrors\u001b[0m\u001b[0;34m.\u001b[0m\u001b[0mUnsupportedError\u001b[0m \u001b[0;32mas\u001b[0m \u001b[0me\u001b[0m\u001b[0;34m:\u001b[0m\u001b[0;34m\u001b[0m\u001b[0;34m\u001b[0m\u001b[0m\n\u001b[1;32m    470\u001b[0m             \u001b[0;31m# Something unsupported is present in the user code, add help info\u001b[0m\u001b[0;34m\u001b[0m\u001b[0;34m\u001b[0m\u001b[0m\n",
            "\u001b[0;32m/usr/local/lib/python3.10/dist-packages/numba/core/dispatcher.py\u001b[0m in \u001b[0;36merror_rewrite\u001b[0;34m(e, issue_type)\u001b[0m\n\u001b[1;32m    407\u001b[0m                 \u001b[0;32mraise\u001b[0m \u001b[0me\u001b[0m\u001b[0;34m\u001b[0m\u001b[0;34m\u001b[0m\u001b[0m\n\u001b[1;32m    408\u001b[0m             \u001b[0;32melse\u001b[0m\u001b[0;34m:\u001b[0m\u001b[0;34m\u001b[0m\u001b[0;34m\u001b[0m\u001b[0m\n\u001b[0;32m--> 409\u001b[0;31m                 \u001b[0;32mraise\u001b[0m \u001b[0me\u001b[0m\u001b[0;34m.\u001b[0m\u001b[0mwith_traceback\u001b[0m\u001b[0;34m(\u001b[0m\u001b[0;32mNone\u001b[0m\u001b[0;34m)\u001b[0m\u001b[0;34m\u001b[0m\u001b[0;34m\u001b[0m\u001b[0m\n\u001b[0m\u001b[1;32m    410\u001b[0m \u001b[0;34m\u001b[0m\u001b[0m\n\u001b[1;32m    411\u001b[0m         \u001b[0margtypes\u001b[0m \u001b[0;34m=\u001b[0m \u001b[0;34m[\u001b[0m\u001b[0;34m]\u001b[0m\u001b[0;34m\u001b[0m\u001b[0;34m\u001b[0m\u001b[0m\n",
            "\u001b[0;31mTypingError\u001b[0m: Failed in nopython mode pipeline (step: nopython frontend)\nnon-precise type pyobject\nDuring: typing of argument at <ipython-input-15-d5f6a94eaac5> (5)\n\nFile \"<ipython-input-15-d5f6a94eaac5>\", line 5:\ndef cannot_compile(x):\n  return x['key']\n  ^ \n\nThis error may have been caused by the following argument(s):\n- argument 0: Cannot determine Numba type of <class 'dict'>\n"
          ]
        }
      ],
      "source": [
        "from numba import njit\n",
        "\n",
        "@njit\n",
        "def cannot_compile(x):\n",
        "  return x['key']\n",
        "\n",
        "cannot_compile(dict(key='value'))"
      ]
    },
    {
      "cell_type": "markdown",
      "metadata": {
        "id": "lLSh8__YNfnb"
      },
      "source": [
        "Vui lòng tham khảo [tài liệu Numba](https://numba.pydata.org/numba-doc/dev/reference/pysupported.html) để có cái nhìn đầy đủ về Python được Numba hỗ trợ."
      ]
    },
    {
      "cell_type": "markdown",
      "metadata": {
        "id": "fxVVN30cNpT7"
      },
      "source": [
        "## Giới thiệu về Numba cho GPU với NumPy Universal Functions (ufuncs)\n",
        "\n",
        "Chúng tôi sẽ bắt đầu đưa tin về lập trình GPU trong Numba với cách biên dịch [NumPy Universal functions \\(or ufuncs\\)](https://docs.scipy.org/doc/numpy-1.15.1/reference/ufuncs.html) cho GPU."
      ]
    },
    {
      "cell_type": "markdown",
      "metadata": {
        "id": "WGlDGrG7lyxU"
      },
      "source": [
        "## Đánh giá các hàm phổ biến NumPy (ufuncs)\n",
        "\n",
        "Làm quen với các ufunc NumPy là điều kiện tiên quyết của khóa học này, nhưng trong trường hợp bạn không quen với chúng hoặc trong trường hợp đã lâu rồi, thì đây là phần giới thiệu rất ngắn gọn. Nếu ở phần cuối của phần giới thiệu ngắn gọn này, bạn không cảm thấy thoải mái với các cơ chế NumPy cơ bản để tạo mảng và ufunc, hãy xem xét [Hướng dẫn bắt đầu nhanh NumPy](https://docs.scipy.org/doc/numpy/user/quickstart.html) kéo dài khoảng 1 giờ.\n",
        "\n",
        "NumPy có khái niệm về các hàm phổ quát (\"ufuncs\"), là các hàm có thể lấy các mảng NumPy có kích thước khác nhau hoặc vô hướng và hoạt động trên chúng theo từng phần tử.\n",
        "\n",
        "Để làm ví dụ, chúng tôi sẽ sử dụng ufunc `add` NumPy để minh họa cơ chế ufunc cơ bản:"
      ]
    },
    {
      "cell_type": "code",
      "execution_count": 16,
      "metadata": {
        "colab": {
          "base_uri": "https://localhost:8080/"
        },
        "id": "5OnzMsaVmHrl",
        "outputId": "260cfc95-4634-4c64-b2f8-1ac2469d02c2"
      },
      "outputs": [
        {
          "data": {
            "text/plain": [
              "array([11, 22, 33, 44])"
            ]
          },
          "execution_count": 16,
          "metadata": {},
          "output_type": "execute_result"
        }
      ],
      "source": [
        "import numpy as np\n",
        "\n",
        "a=np.array([1,2,3,4])\n",
        "b=np.array([10,20,30,40])\n",
        "\n",
        "np.add(a,b) # Trả về một mảng numpy kết quả mới từ việc cộng mỗi phần tử trong `a` với mỗi phần tử trong `b`"
      ]
    },
    {
      "cell_type": "markdown",
      "metadata": {
        "id": "hoVloFzZmvsP"
      },
      "source": [
        "Ufuncs cũng có thể kết hợp vô hướng với mảng:"
      ]
    },
    {
      "cell_type": "code",
      "execution_count": 17,
      "metadata": {
        "colab": {
          "base_uri": "https://localhost:8080/"
        },
        "id": "jMdGCnrQmwhX",
        "outputId": "af203dd4-3bb8-4a46-9543-f1edcefb64eb"
      },
      "outputs": [
        {
          "data": {
            "text/plain": [
              "array([101, 102, 103, 104])"
            ]
          },
          "execution_count": 17,
          "metadata": {},
          "output_type": "execute_result"
        }
      ],
      "source": [
        "np.add(a,100) # Trả về một mảng NumPy mới do thêm 100 vào mọi phần tử trong `a`"
      ]
    },
    {
      "cell_type": "markdown",
      "metadata": {
        "id": "8iBVHLgcm2cn"
      },
      "source": [
        "Các mảng có kích thước khác nhau nhưng tương thích cũng có thể được kết hợp thông qua một kỹ thuật có tên là [*broadcasting*](https://docs.scipy.org/doc/numpy-1.15.0/user/basics.broadcasting.html). Mảng chiều thấp hơn sẽ được sao chép để phù hợp với chiều của mảng chiều cao hơn. Nếu cần, hãy xem tài liệu về [`numpy.arange`](https://docs.scipy.org/doc/numpy-1.15.0/reference/generated/numpy.arange.html) và [`numpy.ndarray.reshape`](https://docs.scipy.org/doc/numpy-1.15.0/reference/generated/numpy.ndarray.reshape.html), cả hai sẽ được sử dụng nhiều lần trong suốt khóa học này:"
      ]
    },
    {
      "cell_type": "code",
      "execution_count": 18,
      "metadata": {
        "colab": {
          "base_uri": "https://localhost:8080/"
        },
        "id": "CkvCswCYnBWw",
        "outputId": "31c8fd75-a434-42f2-9e61-94cb7da9dedc"
      },
      "outputs": [
        {
          "name": "stdout",
          "output_type": "stream",
          "text": [
            "c: [[ 0  1  2  3]\n",
            " [ 4  5  6  7]\n",
            " [ 8  9 10 11]\n",
            " [12 13 14 15]]\n"
          ]
        },
        {
          "data": {
            "text/plain": [
              "array([[10, 21, 32, 43],\n",
              "       [14, 25, 36, 47],\n",
              "       [18, 29, 40, 51],\n",
              "       [22, 33, 44, 55]])"
            ]
          },
          "execution_count": 18,
          "metadata": {},
          "output_type": "execute_result"
        }
      ],
      "source": [
        "c = np.arange(4*4).reshape((4,4))\n",
        "print('c:', c)\n",
        "\n",
        "np.add(b, c)"
      ]
    },
    {
      "cell_type": "markdown",
      "metadata": {
        "id": "hckTGRiMnSHe"
      },
      "source": [
        "## Tạo ufunc cho GPU\n",
        "\n",
        "Numba có khả năng tạo các ufunc *đã biên dịch*, điển hình là một quy trình không quá đơn giản liên quan đến mã C. Với Numba, bạn chỉ cần triển khai một hàm vô hướng sẽ được thực hiện trên tất cả các đầu vào, trang trí nó bằng `@vectorize` và Numba sẽ tìm ra các quy tắc broadcast cho bạn. Đối với những bạn đã quen thuộc với [NumPy's `vectorize`](https://docs.scipy.org/doc/numpy-1.15.0/reference/generated/numpy.vectorize.html), trình trang trí `vectorize` của Numba sẽ rất quen thuộc."
      ]
    },
    {
      "cell_type": "markdown",
      "metadata": {
        "id": "Ax_mrhYankiv"
      },
      "source": [
        "Trong ví dụ đầu tiên này, chúng ta sẽ sử dụng trình trang trí `@vectorize` để biên dịch và tối ưu hóa ufunc cho **CPU**."
      ]
    },
    {
      "cell_type": "code",
      "execution_count": 19,
      "metadata": {
        "id": "XvoX7lZhnq3G"
      },
      "outputs": [],
      "source": [
        "from numba import vectorize\n",
        "\n",
        "@vectorize\n",
        "def add_ten(num):\n",
        "  return num +10 # Thao tác vô hướng này sẽ được thực hiện trên từng phần tử"
      ]
    },
    {
      "cell_type": "code",
      "execution_count": 20,
      "metadata": {
        "colab": {
          "base_uri": "https://localhost:8080/"
        },
        "id": "sOKGNoMWn5XT",
        "outputId": "b2009b81-417e-4966-a50a-31ddb47e7b66"
      },
      "outputs": [
        {
          "data": {
            "text/plain": [
              "array([10, 11, 12, 13, 14, 15, 16, 17, 18, 19])"
            ]
          },
          "execution_count": 20,
          "metadata": {},
          "output_type": "execute_result"
        }
      ],
      "source": [
        "nums=np.arange(10)\n",
        "add_ten(nums) # chuyển toàn bộ mảng vào ufunc, nó thực hiện thao tác trên từng phần tử"
      ]
    },
    {
      "cell_type": "markdown",
      "metadata": {
        "id": "SY1HosJFoNUe"
      },
      "source": [
        "Chúng tôi đang tạo một ufunc sử dụng CUDA trên GPU với việc bổ sung thêm **explicit type signature** và đặt thuộc tính `mục tiêu`. Đối số type signature loại nào sẽ sử dụng cho cả đối số ufuncs và giá trị trả về:\n",
        "```python\n",
        "'return_value_type(argument1_value_type, argument2_value_type, ...)'\n",
        "```\n",
        "Vui lòng xem tài liệu Numba để biết thêm về [các loại có sẵn](https://numba.pydata.org/numba-doc/dev/reference/types.html), cũng như để biết thêm thông tin về [viết ufunc có nhiều hơn một signature](https://numba.pydata.org/numba-doc/dev/user/vectorize.html)\n",
        "\n",
        "Đây là một ví dụ đơn giản về ufunc sẽ được biên dịch cho thiết bị GPU hỗ trợ CUDA. Nó mong đợi hai giá trị `int64` và cũng trả về một giá trị `int64`:"
      ]
    },
    {
      "cell_type": "code",
      "execution_count": 21,
      "metadata": {
        "id": "w20vIeK5o0X6"
      },
      "outputs": [],
      "source": [
        "@vectorize(['int64(int64,int64)'],target='cuda') # Loại signature và mục tiêu được yêu cầu cho GPU\n",
        "def add_ufunc(x,y):\n",
        "  return x+y"
      ]
    },
    {
      "cell_type": "code",
      "execution_count": 22,
      "metadata": {
        "colab": {
          "base_uri": "https://localhost:8080/"
        },
        "id": "mGthJrQopJjH",
        "outputId": "4f0e5c44-c808-48db-9e3e-f5155d48d668"
      },
      "outputs": [
        {
          "name": "stderr",
          "output_type": "stream",
          "text": [
            "/usr/local/lib/python3.10/dist-packages/numba/cuda/dispatcher.py:488: NumbaPerformanceWarning: Grid size 1 will likely result in GPU under-utilization due to low occupancy.\n",
            "  warn(NumbaPerformanceWarning(msg))\n"
          ]
        },
        {
          "data": {
            "text/plain": [
              "array([11, 22, 33, 44])"
            ]
          },
          "execution_count": 22,
          "metadata": {},
          "output_type": "execute_result"
        }
      ],
      "source": [
        "add_ufunc(a,b)"
      ]
    },
    {
      "cell_type": "markdown",
      "metadata": {
        "id": "17cDEvhPp4CS"
      },
      "source": [
        "Đối một việc gọi chức năng đơn giản như vậy, rất nhiều điều đã xảy ra! Numba chỉ tự động:\n",
        "\n",
        "  *  Đã biên dịch CUDA kernel để thực thi thao tác ufunc song song trên tất cả các phần tử đầu vào.\n",
        "  * Bộ nhớ GPU được phân bổ cho đầu vào và đầu ra.\n",
        "  * Đã sao chép dữ liệu đầu vào vào GPU.\n",
        "  * Đã thực thi CUDA kernel (chức năng GPU) với kích thước nhân chính xác theo kích thước đầu vào.\n",
        "  * Sao chép lại kết quả từ GPU sang CPU.\n",
        "  * Trả về kết quả dưới dạng mảng NumPy trên.\n",
        "\n",
        "So với cách triển khai trong C, phần trên ngắn gọn hơn đáng kể.\n",
        "\n",
        "Bạn có thể thắc mắc ví dụ đơn giản của chúng tôi về GPU nhanh như thế nào? Hãy xem nào:"
      ]
    },
    {
      "cell_type": "code",
      "execution_count": 23,
      "metadata": {
        "colab": {
          "base_uri": "https://localhost:8080/"
        },
        "id": "TUFx0idvq1AD",
        "outputId": "0ed2e93f-3908-4455-ca7f-5f0df8bccae8"
      },
      "outputs": [
        {
          "name": "stdout",
          "output_type": "stream",
          "text": [
            "1.48 µs ± 395 ns per loop (mean ± std. dev. of 7 runs, 1000000 loops each)\n"
          ]
        }
      ],
      "source": [
        "%timeit np.add(b,c) # Numpy trên CPU"
      ]
    },
    {
      "cell_type": "code",
      "execution_count": 24,
      "metadata": {
        "colab": {
          "base_uri": "https://localhost:8080/"
        },
        "id": "3pJqJ_LbrDOK",
        "outputId": "0561c1aa-ae92-4b9e-c318-60bf23a7742a"
      },
      "outputs": [
        {
          "name": "stdout",
          "output_type": "stream",
          "text": [
            "1.02 ms ± 112 µs per loop (mean ± std. dev. of 7 runs, 1000 loops each)\n"
          ]
        }
      ],
      "source": [
        "%timeit add_ufunc(b,c) # Numba trên GPU"
      ]
    },
    {
      "cell_type": "markdown",
      "metadata": {
        "id": "C30K1TTgrKjf"
      },
      "source": [
        "Wow, GPU *chậm hơn rất nhiều* so với CPU?? Hiện tại, điều này có thể xảy ra vì chúng tôi đã (cố tình) sử dụng sai GPU theo một số cách trong ví dụ này. Việc chúng ta đã lạm dụng GPU như thế nào sẽ giúp làm rõ loại vấn đề nào phù hợp với điện toán GPU và vấn đề nào tốt nhất nên được thực hiện trên CPU:\n",
        "\n",
        "   * **Đầu vào của chúng tôi quá nhỏ**: GPU đạt được hiệu suất thông qua cơ chế song song, hoạt động trên hàng nghìn giá trị cùng một lúc. Đầu vào thử nghiệm của chúng tôi chỉ có 4 và 16 số nguyên tương ứng. Chúng tôi cần một mảng lớn hơn nhiều để giữ cho GPU bận rộn.\n",
        "   * **Việc tính toán của chúng tôi quá đơn giản**: Việc gửi một phép tính tới GPU tốn khá nhiều chi phí so với việc gọi một chức năng trên CPU. Nếu phép tính của chúng ta không liên quan đến đủ các phép toán (thường được gọi là \"cường độ số học\"), thì GPU sẽ dành phần lớn thời gian để chờ dữ liệu di chuyển.* **Việc tính toán của chúng tôi quá đơn giản**: Việc gửi một phép tính tới GPU tốn khá nhiều chi phí so với việc gọi một chức năng trên CPU. Nếu phép tính của chúng ta không liên quan đến đủ các phép toán (thường được gọi là \"cường độ số học\"), thì GPU sẽ dành phần lớn thời gian để chờ dữ liệu di chuyển.\n",
        "   * **Chúng tôi sao chép dữ liệu đến và từ GPU**: Mặc dù trong một số trường hợp, việc trả chi phí sao chép dữ liệu đến và từ GPU có thể đáng giá cho một chức năng duy nhất, nhưng thường thì việc chạy một số hoạt động GPU theo trình tự sẽ được ưu tiên hơn. Trong những trường hợp đó, bạn nên gửi dữ liệu tới GPU và giữ dữ liệu đó ở đó cho đến khi tất cả quá trình xử lý của chúng tôi hoàn tất.\n",
        "   * **Các loại dữ liệu của chúng tôi lớn hơn mức cần thiết**: Ví dụ của chúng tôi sử dụng `int64` khi chúng tôi có thể không cần nó. Mã vô hướng sử dụng các loại dữ liệu 32 và 64 bit về cơ bản chạy cùng tốc độ trên CPU và đối với các loại số nguyên, sự khác biệt có thể không lớn, nhưng các loại dữ liệu dấu phẩy động 64 bit có chi phí hiệu suất đáng kể trên GPU. Số học cơ bản trên float 64 bit có thể chậm hơn từ 2x (kiến trúc Pascal Tesla) đến 24x (GeForce kiến trúc Maxwell) chậm hơn so với float 32 bit. NumPy mặc định là loại dữ liệu 64 bit khi tạo mảng, vì vậy điều quan trọng là phải đặt thuộc tính [`dtype`](https://docs.scipy.org/doc/numpy-1.14.0/reference/arrays.dtypes.html) hoặc sử dụng thuộc tính [`ndarray.astype()`](https://docs.scipy.org/doc/numpy-1.15.0/reference/generated/numpy.ndarray.astype.html) phương pháp để chọn các loại 32 bit khi bạn cần.\n",
        "\n",
        "\n",
        "   Với những điều trên, hãy thử một ví dụ nhanh hơn trên GPU bằng cách thực hiện một thao tác với cường độ số học lớn hơn nhiều, trên đầu vào lớn hơn nhiều và sử dụng loại dữ liệu 32 bit:"
      ]
    },
    {
      "cell_type": "code",
      "execution_count": 25,
      "metadata": {
        "id": "GfmNwLof5laM"
      },
      "outputs": [],
      "source": [
        "import math # Lưu ý rằng đối với mục tiêu CUDA, chúng ta cần sử dụng các hàm vô hướng từ mô-đun toán học, không phải NumPy\n",
        "\n",
        "SQRT_2PI= np.float32((2*math.pi)**0.5) # Tính toán trước hằng số này dưới dạng float32. Numba sẽ nội tuyến nó tại thời điểm biên dịch.\n",
        "\n",
        "@vectorize(['float32(float32,float32,float32)'], target='cuda')\n",
        "def gaussian_pdf(x,mean,sigma):\n",
        "  ''' Tính giá trị của hàm mật độ xác suất Gauss tại x với giá trị trung bình và sigma cho trước.'''\n",
        "  return math.exp(-0.5*((x-mean)/sigma)**2)/(sigma*SQRT_2PI)"
      ]
    },
    {
      "cell_type": "code",
      "execution_count": 26,
      "metadata": {
        "colab": {
          "base_uri": "https://localhost:8080/"
        },
        "id": "GklJQxxN6667",
        "outputId": "6bdd0483-aa48-4f90-be5a-6e0b41a353e8"
      },
      "outputs": [
        {
          "name": "stderr",
          "output_type": "stream",
          "text": [
            "/usr/local/lib/python3.10/dist-packages/numba/cuda/dispatcher.py:488: NumbaPerformanceWarning: Grid size 1 will likely result in GPU under-utilization due to low occupancy.\n",
            "  warn(NumbaPerformanceWarning(msg))\n"
          ]
        },
        {
          "data": {
            "text/plain": [
              "array([0.11854485])"
            ]
          },
          "execution_count": 26,
          "metadata": {},
          "output_type": "execute_result"
        }
      ],
      "source": [
        "import numpy as np\n",
        "# Đánh giá Gaussian một triệu lần!\n",
        "x=np.random.uniform(-3,3,size=1000000).astype(np.float32)\n",
        "mean=np.float32(0.0)\n",
        "sigma=np.float32(1.0)\n",
        "\n",
        "# Test nhanh trên một phần tử đơn để đảm bảo nó hoạt động\n",
        "gaussian_pdf(x[0],0.0,1.0)"
      ]
    },
    {
      "cell_type": "code",
      "execution_count": 27,
      "metadata": {
        "colab": {
          "base_uri": "https://localhost:8080/"
        },
        "id": "gipdq66u7g6X",
        "outputId": "c77589d4-2735-496c-f1fb-1798a12de95b"
      },
      "outputs": [
        {
          "name": "stdout",
          "output_type": "stream",
          "text": [
            "28.6 ms ± 725 µs per loop (mean ± std. dev. of 7 runs, 10 loops each)\n"
          ]
        }
      ],
      "source": [
        "import scipy.stats # # để biết định nghĩa về phân phối gaussian, vì vậy chúng tôi có thể so sánh thời gian của CPU với GPU\n",
        "norm_pdf=scipy.stats.norm\n",
        "%timeit norm_pdf.pdf(x,loc=mean,scale=sigma)"
      ]
    },
    {
      "cell_type": "code",
      "execution_count": 28,
      "metadata": {
        "colab": {
          "base_uri": "https://localhost:8080/"
        },
        "id": "RKP1Vw9w7134",
        "outputId": "c029bc42-9510-4540-ad5c-600388b5412b"
      },
      "outputs": [
        {
          "name": "stdout",
          "output_type": "stream",
          "text": [
            "5.5 ms ± 48.5 µs per loop (mean ± std. dev. of 7 runs, 100 loops each)\n"
          ]
        }
      ],
      "source": [
        "%timeit gaussian_pdf(x,mean,sigma)"
      ]
    },
    {
      "cell_type": "markdown",
      "metadata": {
        "id": "DJQQXbge8U4U"
      },
      "source": [
        "Đó là một cải tiến khá lớn, thậm chí bao gồm cả chi phí sao chép tất cả dữ liệu đến và từ GPU. Ufunc sử dụng các chức năng đặc biệt (`exp`, `sin`, `cos`, v.v.) trên các tập dữ liệu lớn chạy đặc biệt tốt trên GPU.\n",
        "\n",
        "Để hoàn thành phần so sánh của chúng tôi, hãy xác định và đặt thời gian cho chức năng `gaussian_pdf` của chúng tôi khi được Numba tối ưu hóa cho **CPU**:\n"
      ]
    },
    {
      "cell_type": "code",
      "execution_count": 29,
      "metadata": {
        "id": "13RdGvW98gTA"
      },
      "outputs": [],
      "source": [
        "@vectorize\n",
        "def cpu_gaussian_pdf(x,mean,sigma):\n",
        "  ''' Tính giá trị của hàm mật độ xác suất Gauss tại x với giá trị trung bình và sigma cho trước.'''\n",
        "  return math.exp(-0.5*((x-mean)/sigma)**2)/(sigma*SQRT_2PI)"
      ]
    },
    {
      "cell_type": "code",
      "execution_count": 30,
      "metadata": {
        "colab": {
          "base_uri": "https://localhost:8080/"
        },
        "id": "CJVbcC3y8oqg",
        "outputId": "600a44ff-2376-47b4-f07a-038a1fafcd62"
      },
      "outputs": [
        {
          "name": "stdout",
          "output_type": "stream",
          "text": [
            "13.2 ms ± 1.91 ms per loop (mean ± std. dev. of 7 runs, 100 loops each)\n"
          ]
        }
      ],
      "source": [
        "%timeit cpu_gaussian_pdf(x,mean,sigma)"
      ]
    },
    {
      "cell_type": "markdown",
      "metadata": {
        "id": "Jj1MfZSM8yRY"
      },
      "source": [
        "Tốc độ đó nhanh hơn nhiều so với phiên bản CPU chưa được biên dịch, nhưng chậm hơn nhiều so với phiên bản tăng tốc GPU."
      ]
    },
    {
      "cell_type": "markdown",
      "metadata": {
        "id": "w1XiYjCv9EIY"
      },
      "source": [
        "## CUDA Device Functions\n",
        "\n",
        "\n",
        "Ufunc thực sự khá tuyệt vời nếu và khi bạn muốn thực hiện các thao tác thông minh với phần tử, đây là một nhiệm vụ rất phổ biến. Tuy nhiên, có bất kỳ chức năng nào không phù hợp với mô tả này. Để biên dịch các chức năng cho GPU **không** là phần tử khôn ngoan, vectorized functions, chúng tôi sử dụng `numba.cuda.jit`.Trong phần tiếp theo của khóa học này, chúng ta làm việc chuyên sâu với `numba.cuda.jit`, nhưng bây giờ, hãy để chúng tôi trình bày cách sử dụng nó để tô điểm cho một hàm trợ giúp, được sử dụng bởi một ufunc được tăng tốc GPU, để bạn không bắt buộc phải nhồi nhét tất cả logic của mình vào một định nghĩa ufunc duy nhất.\n",
        "\n",
        "Lưu ý rằng `polar_to_cartesian` bên dưới không yêu cầu type signature, đồng thời, nó được truyền hai giá trị vô hướng, Không giống như các ufunc được vector hóa mà chúng ta đang sử dụng (và như `polar_distance` bên dưới) vốn mong đợi các mảng NumPy làm đối số\n",
        "\n",
        "Đối số `device=True` chỉ ra rằng hàm được decorate có thể **chỉ** được gọi từ một hàm chạy trên GPU chứ không phải từ mã máy chủ CPU:"
      ]
    },
    {
      "cell_type": "code",
      "execution_count": 31,
      "metadata": {
        "id": "3jjJWyLl_Dtr"
      },
      "outputs": [],
      "source": [
        "from numba import cuda\n",
        "\n",
        "@cuda.jit(device=True)\n",
        "def polar_to_cartesian(rho,theta):\n",
        "  x=rho*math.cos(theta)\n",
        "  y=rho*math.sin(theta)\n",
        "  return x,y\n",
        "\n",
        "@vectorize(['float32(float32, float32, float32, float32)'],target='cuda')\n",
        "def polar_distance(rho1, theta1, rho2, theta2):\n",
        "  x1,y1=polar_to_cartesian(rho1,theta1) # Chúng ta có thể sử device function bên trong GPU ufuncs của chúng ta\n",
        "  x2,y2=polar_to_cartesian(rho2,theta2)\n",
        "\n",
        "  return ((x1-x2)**2+(y1-y2)**2)**0.5"
      ]
    },
    {
      "cell_type": "code",
      "execution_count": 32,
      "metadata": {
        "id": "S28pTJe7AKUX"
      },
      "outputs": [],
      "source": [
        "n=1000000\n",
        "rho1=np.random.uniform(0.5,1.5,size=n).astype(np.float32)\n",
        "theta1=np.random.uniform(-np.pi,np.pi,size=n).astype(np.float32)\n",
        "rho2=np.random.uniform(0.5,1.5,size=n).astype(np.float32)\n",
        "theta2=np.random.uniform(-np.pi,np.pi,size=n).astype(np.float32)"
      ]
    },
    {
      "cell_type": "code",
      "execution_count": 33,
      "metadata": {
        "colab": {
          "base_uri": "https://localhost:8080/"
        },
        "id": "hchfIqUxAg73",
        "outputId": "792c3162-fc9c-4cda-d320-f6de05332752"
      },
      "outputs": [
        {
          "data": {
            "text/plain": [
              "array([0.94924873, 1.69262186, 1.56388458, ..., 1.75300293, 0.71036095,\n",
              "       0.93498927])"
            ]
          },
          "execution_count": 33,
          "metadata": {},
          "output_type": "execute_result"
        }
      ],
      "source": [
        "polar_distance(rho1,theta1,rho2,theta2)"
      ]
    },
    {
      "cell_type": "markdown",
      "metadata": {
        "id": "7Y6x8_VGA1wt"
      },
      "source": [
        "Lưu ý rằng trình biên dịch CUDA tích cực nội tuyến các device function, vì vậy nhìn chung không có chi phí chung cho các lệnh gọi hàm. Tương tự, \"tuple\" được trả về bởi `polar_to_cartesian` không thực sự được tạo ra như một đối tượng Python, mà được biểu diễn tạm thời dưới dạng một cấu trúc, sau đó được trình biên dịch tối ưu hóa."
      ]
    },
    {
      "cell_type": "markdown",
      "metadata": {
        "id": "MX26yW72BEG3"
      },
      "source": [
        "## Python được phép trên GPU\n",
        "\n",
        "So với Numba trên CPU (vốn đã có giới hạn) thì Numba trên GPU còn nhiều hạn chế hơn. Python được hỗ trợ bao gồm:\n",
        "\n",
        "* `if`/`elif`/`else`\n",
        "* Các vòng lặp `while` và `for`\n",
        "* Toán tử cơ bản\n",
        "* Các chức năng được chọn từ các mô-đun `math` và `cmath`\n",
        "* Tuples\n",
        "\n",
        "Xem [hướng dẫn sử dụng Numba](http://numba.pydata.org/numba-doc/latest/cuda/cudapysupported.html) để biết thêm chi tiết."
      ]
    },
    {
      "cell_type": "markdown",
      "metadata": {
        "id": "5zUlf6-bN7CB"
      },
      "source": [
        "### Bài tập: GPU tăng tốc chức năng\n",
        "Xem: https://numba.pydata.org/numba-examples/examples/waveforms/zero_suppression/results.html\n",
        "\n",
        "\n",
        "Hãy để GPU tăng tốc chức năng \"zero suppression\". Một thao tác phổ biến khi làm việc với các dạng sóng là buộc tất cả các giá trị mẫu dưới một độ lớn tuyệt đối nhất định bằng 0, như một cách để loại bỏ nhiễu biên độ thấp. Hãy tạo một số dữ liệu mẫu:"
      ]
    },
    {
      "cell_type": "code",
      "execution_count": 35,
      "metadata": {
        "colab": {
          "base_uri": "https://localhost:8080/",
          "height": 448
        },
        "id": "I1W-pXBwOZo1",
        "outputId": "2ea2a3f1-0305-4d33-bd40-0ba648990a44"
      },
      "outputs": [
        {
          "data": {
            "text/plain": [
              "[<matplotlib.lines.Line2D at 0x7ddf37e9ca90>]"
            ]
          },
          "execution_count": 35,
          "metadata": {},
          "output_type": "execute_result"
        },
        {
          "data": {
            "image/png": "[encoded data removed]",
            "text/plain": [
              "<Figure size 640x480 with 1 Axes>"
            ]
          },
          "metadata": {},
          "output_type": "display_data"
        }
      ],
      "source": [
        "# Điều này cho phép chúng tôi vẽ đồ thị ngay tại đây trong notebook\n",
        "%matplotlib inline\n",
        "\n",
        "# Hacking up a noisy pulse train\n",
        "from matplotlib import pyplot as plt\n",
        "\n",
        "n=100000\n",
        "noise=np.random.normal(size=n)*3\n",
        "pulses=np.maximum(np.sin(np.arange(n)/(n/23))-0.3,0.0)\n",
        "waveform=((pulses*300)+noise).astype(np.int16)\n",
        "plt.plot(waveform)"
      ]
    },
    {
      "cell_type": "markdown",
      "metadata": {
        "id": "aiy4CLQ0PZ6T"
      },
      "source": [
        "Bây giờ, hãy thiết kế chức năng `zero_suppress` này để chạy dưới dạng ufunc được vector hóa trên thiết bị CUDA. Hãy xem [solution](solutions/zero_suppress_solution.py) nếu bạn gặp khó khăn."
      ]
    },
    {
      "cell_type": "code",
      "execution_count": 36,
      "metadata": {
        "id": "llUKfO_ePvtJ"
      },
      "outputs": [],
      "source": [
        "@vectorize(['int16(int16,int16)'],target='cuda')\n",
        "def zero_suppress(waveform_value,threshold):\n",
        "  if waveform_value<threshold:\n",
        "    result=0\n",
        "  else:\n",
        "    result=waveform_value\n",
        "  return result"
      ]
    },
    {
      "cell_type": "code",
      "execution_count": 37,
      "metadata": {
        "colab": {
          "base_uri": "https://localhost:8080/",
          "height": 505
        },
        "id": "T8nRFsB5Qdl0",
        "outputId": "bcdb9ce2-aa8c-496f-fb62-12700a6207e9"
      },
      "outputs": [
        {
          "name": "stderr",
          "output_type": "stream",
          "text": [
            "/usr/local/lib/python3.10/dist-packages/numba/cuda/dispatcher.py:488: NumbaPerformanceWarning: Grid size 98 will likely result in GPU under-utilization due to low occupancy.\n",
            "  warn(NumbaPerformanceWarning(msg))\n"
          ]
        },
        {
          "data": {
            "text/plain": [
              "[<matplotlib.lines.Line2D at 0x7ddf356d13f0>]"
            ]
          },
          "execution_count": 37,
          "metadata": {},
          "output_type": "execute_result"
        },
        {
          "data": {
            "image/png": "[encoded data removed]",
            "text/plain": [
              "<Figure size 640x480 with 1 Axes>"
            ]
          },
          "metadata": {},
          "output_type": "display_data"
        }
      ],
      "source": [
        "# Điều này sẽ gây ra lỗi cho đến khi bạn vector hóa thành công hàm `zero_suppress` ở trên.\n",
        "# Nóie trên đường cơ sở sẽ biến mất khi triển khai zero_suppress\n",
        "\n",
        "plt.plot(zero_suppress(waveform,15))"
      ]
    },
    {
      "cell_type": "code",
      "execution_count": 42,
      "metadata": {
        "id": "lghu9_wDSITt"
      },
      "outputs": [],
      "source": [
        "import numba\n",
        "import numpy as np\n",
        "\n",
        "@numba.vectorize(nopython=True)\n",
        "def numba_zero_suppression_single_threaded(values,threshold):\n",
        "  if np.abs(values)>=threshold:\n",
        "    return values\n",
        "  else:\n",
        "    return 0.0"
      ]
    },
    {
      "cell_type": "code",
      "execution_count": 39,
      "metadata": {
        "id": "oTRxVHmASqGs"
      },
      "outputs": [],
      "source": [
        "def numpy_zero_suppression(values,threshold):\n",
        "  cond=np.less(np.absolute(values),threshold)\n",
        "  return np.where(cond,0,values)"
      ]
    },
    {
      "cell_type": "code",
      "execution_count": 40,
      "metadata": {
        "colab": {
          "base_uri": "https://localhost:8080/"
        },
        "id": "n1CCSD0mS_8t",
        "outputId": "3cbd0e53-e53b-49c8-cfb0-377ddc79e2f6"
      },
      "outputs": [
        {
          "name": "stdout",
          "output_type": "stream",
          "text": [
            "1.74 ms ± 309 µs per loop (mean ± std. dev. of 7 runs, 1000 loops each)\n"
          ]
        }
      ],
      "source": [
        "%timeit zero_suppress(waveform,15) # numba gpu ufunc\n",
        "# (LƯU Ý: Việc triển khai cụ thể này sẽ chậm hơn CPU\n",
        "# vì không có đủ công việc để GPU khắc phục chi phí cố định khi khởi chạy kernel.)"
      ]
    },
    {
      "cell_type": "code",
      "execution_count": 43,
      "metadata": {
        "colab": {
          "base_uri": "https://localhost:8080/"
        },
        "id": "1lGlHJeYTVRo",
        "outputId": "7dcb703d-65ae-4233-c367-0421bf1a29a6"
      },
      "outputs": [
        {
          "name": "stdout",
          "output_type": "stream",
          "text": [
            "260 µs ± 59.4 µs per loop (mean ± std. dev. of 7 runs, 10000 loops each)\n"
          ]
        }
      ],
      "source": [
        "%timeit numba_zero_suppression_single_threaded(waveform,15) # single threaded"
      ]
    },
    {
      "cell_type": "code",
      "execution_count": 44,
      "metadata": {
        "colab": {
          "base_uri": "https://localhost:8080/"
        },
        "id": "rX4UaYe5TmnX",
        "outputId": "ba83346d-9a16-4f88-8b48-1cb67e90b719"
      },
      "outputs": [
        {
          "name": "stdout",
          "output_type": "stream",
          "text": [
            "135 µs ± 37.1 µs per loop (mean ± std. dev. of 7 runs, 10000 loops each)\n"
          ]
        }
      ],
      "source": [
        "%timeit numpy_zero_suppression(waveform,15)"
      ]
    },
    {
      "cell_type": "markdown",
      "metadata": {
        "id": "P5yVkg2hQ2-H"
      },
      "source": [
        "## Quản lý bộ nhớ GPU\n",
        "\n",
        "Cho đến nay, chúng tôi đã sử dụng các mảng NumPy trên CPU làm đầu vào và đầu ra cho các chức năng GPU của chúng tôi. Để thuận tiện, Numba đã tự động chuyển dữ liệu này sang GPU cho chúng tôi để GPU có thể vận hành nó. Với việc truyền dữ liệu ngầm định này, Numba, hoạt động thận trọng, sẽ tự động truyền dữ liệu trở lại CPU sau khi xử lý. Như bạn có thể tưởng tượng, đây là một hoạt động tốn rất nhiều thời gian.\n",
        "\n",
        "[Hướng dẫn các phương pháp hay nhất của CUDA](https://docs.nvidia.com/cuda/cuda-c-best-practices-guide/index.html) cho biết:\n",
        "\n",
        "> **Mức độ ưu tiên cao**: Giảm thiểu việc truyền dữ liệu giữa host và device, ngay cả khi điều đó có nghĩa là chạy một số kernels trên device không cho thấy mức tăng hiệu suất khi so sánh với việc chạy chúng trên CPU máy chủ.\n",
        "\n",
        "Với suy nghĩ này, chúng ta nên xem xét cách ngăn việc truyền dữ liệu tự động này trở lại host để chúng ta có thể thực hiện thêm công việc trên dữ liệu, chỉ phải trả giá bằng cách sao chép dữ liệu trở lại máy chủ khi chúng ta thực sự sẵn sàng.\n",
        "\n",
        "Cách để thực hiện việc này là tạo **CUDA Device Arrays** và chuyển chúng tới các chức năng GPU của chúng tôi. Các Device array sẽ không được tự động chuyển trở lại host sau khi xử lý và có thể được sử dụng lại như chúng ta muốn trên device trước đó và chỉ khi cần thiết, gửi chúng hoặc một phần của chúng trở lại host.\n",
        "\n",
        "Để chứng minh, hãy tạo lại ví dụ bổ sung ufunc của chúng ta:"
      ]
    },
    {
      "cell_type": "code",
      "execution_count": 62,
      "metadata": {
        "id": "SLdgdZTQa5V-"
      },
      "outputs": [],
      "source": [
        "@vectorize(['float32(float32,float32)'],target='cuda')\n",
        "def add_ufunc(x,y):\n",
        "  return x+y"
      ]
    },
    {
      "cell_type": "code",
      "execution_count": 46,
      "metadata": {
        "id": "XgTurC55bGEI"
      },
      "outputs": [],
      "source": [
        "n=100000\n",
        "x=np.arange(n).astype(np.float32)\n",
        "y=2*x"
      ]
    },
    {
      "cell_type": "code",
      "execution_count": 47,
      "metadata": {
        "colab": {
          "base_uri": "https://localhost:8080/"
        },
        "id": "FCmOQC6VbOWB",
        "outputId": "1e79c535-bd9a-452b-8d46-381d3809c811"
      },
      "outputs": [
        {
          "name": "stderr",
          "output_type": "stream",
          "text": [
            "/usr/local/lib/python3.10/dist-packages/numba/cuda/dispatcher.py:488: NumbaPerformanceWarning: Grid size 98 will likely result in GPU under-utilization due to low occupancy.\n",
            "  warn(NumbaPerformanceWarning(msg))\n"
          ]
        },
        {
          "name": "stdout",
          "output_type": "stream",
          "text": [
            "1.74 ms ± 499 µs per loop (mean ± std. dev. of 7 runs, 1000 loops each)\n"
          ]
        }
      ],
      "source": [
        "%timeit add_ufunc(x,y) # Baseline performance with host arrays"
      ]
    },
    {
      "cell_type": "markdown",
      "metadata": {
        "id": "x_h8V7lybY-g"
      },
      "source": [
        "Mô-đun `numba.cuda` bao gồm một chức năng sẽ sao chép dữ liệu host vào GPU và trả về một  device array CUDA. Lưu ý rằng bên dưới khi chúng tôi cố gắng in nội dung của device array, chúng tôi chỉ nhận được thông tin về mảng chứ không phải nội dung thực tế của nó. Điều này là do dữ liệu nằm trên device và chúng tôi sẽ cần chuyển dữ liệu đó trở lại host để in các giá trị của nó, chúng tôi sẽ chỉ ra cách thực hiện sau:"
      ]
    },
    {
      "cell_type": "code",
      "execution_count": 48,
      "metadata": {
        "colab": {
          "base_uri": "https://localhost:8080/"
        },
        "id": "kufbfZBbb1H4",
        "outputId": "f95c307f-3a70-47d9-87ed-36fba3cb4d63"
      },
      "outputs": [
        {
          "name": "stdout",
          "output_type": "stream",
          "text": [
            "<numba.cuda.cudadrv.devicearray.DeviceNDArray object at 0x7ddf353d19c0>\n",
            "(100000,)\n",
            "float32\n"
          ]
        }
      ],
      "source": [
        "from numba import cuda\n",
        "\n",
        "x_device=cuda.to_device(x)\n",
        "y_device=cuda.to_device(y)\n",
        "\n",
        "print(x_device)\n",
        "print(x_device.shape)\n",
        "print(x_device.dtype)"
      ]
    },
    {
      "cell_type": "markdown",
      "metadata": {
        "id": "jrq4o9XncHgO"
      },
      "source": [
        "Device array có thể được chuyển đến các hàm CUDA giống như mảng NumPy, nhưng không có chi phí sao chép:"
      ]
    },
    {
      "cell_type": "code",
      "execution_count": 49,
      "metadata": {
        "colab": {
          "base_uri": "https://localhost:8080/"
        },
        "id": "JDuTka04cUtA",
        "outputId": "48dc9245-adb9-49d0-d482-6b25881bf191"
      },
      "outputs": [
        {
          "name": "stdout",
          "output_type": "stream",
          "text": [
            "919 µs ± 109 µs per loop (mean ± std. dev. of 7 runs, 1000 loops each)\n"
          ]
        }
      ],
      "source": [
        "%timeit add_ufunc(x_device,y_device)"
      ]
    },
    {
      "cell_type": "markdown",
      "metadata": {
        "id": "NI9_bXv3ccx0"
      },
      "source": [
        "Vì `x_device` và `y_device` đã có trên device nên benchmark này nhanh hơn nhiều.\n",
        "\n",
        "Tuy nhiên, chúng tôi vẫn phân bổ một device array cho đầu ra của ufunc và sao chép nó trở lại host, mặc dù trong ô ở trên, chúng tôi không thực sự gán mảng cho một biến. Để tránh điều này, chúng ta có thể tạo mảng đầu ra bằng [`numba.cuda.device_array()`](https://numba.pydata.org/numba-doc/dev/cuda-reference/memory.html#numba.cuda.device_array) function:"
      ]
    },
    {
      "cell_type": "code",
      "execution_count": 51,
      "metadata": {
        "id": "M3vJmWuIdHUU"
      },
      "outputs": [],
      "source": [
        "out_device=cuda.device_array(shape=(n,),dtype=np.float32) # Không thiết lập nội dung, giống np.empty()"
      ]
    },
    {
      "cell_type": "markdown",
      "metadata": {
        "id": "7g-8_1ftdc4s"
      },
      "source": [
        "Và sau đó chúng ta có thể sử dụng đối số từ khóa `out` đặc biệt cho ufunc để chỉ định bộ đệm đầu ra:"
      ]
    },
    {
      "cell_type": "code",
      "execution_count": 52,
      "metadata": {
        "colab": {
          "base_uri": "https://localhost:8080/"
        },
        "id": "YqfBe8M-ddrk",
        "outputId": "03717356-7645-411b-9d06-1cfa28508032"
      },
      "outputs": [
        {
          "name": "stdout",
          "output_type": "stream",
          "text": [
            "692 µs ± 16.9 µs per loop (mean ± std. dev. of 7 runs, 1000 loops each)\n"
          ]
        }
      ],
      "source": [
        "%timeit add_ufunc(x_device,y_device,out=out_device)"
      ]
    },
    {
      "cell_type": "markdown",
      "metadata": {
        "id": "xrsW2EUAdsHL"
      },
      "source": [
        "Lệnh gọi `add_ufunc` này không liên quan đến bất kỳ hoạt động truyền dữ liệu nào giữa host và device và do đó chạy nhanh nhất. Nếu và khi chúng ta muốn mang một mảng device trở lại bộ nhớ host, chúng ta có thể sử dụng phương thức `copy_to_host()`:"
      ]
    },
    {
      "cell_type": "code",
      "execution_count": 53,
      "metadata": {
        "colab": {
          "base_uri": "https://localhost:8080/"
        },
        "id": "p8IDlO9rd627",
        "outputId": "be66419a-4a49-4af8-9beb-84c4095e806d"
      },
      "outputs": [
        {
          "name": "stdout",
          "output_type": "stream",
          "text": [
            "[ 0.  3.  6.  9. 12. 15. 18. 21. 24. 27.]\n"
          ]
        }
      ],
      "source": [
        "out_host=out_device.copy_to_host()\n",
        "print(out_host[:10])"
      ]
    },
    {
      "cell_type": "markdown",
      "metadata": {
        "id": "A6vNyiGGeYbR"
      },
      "source": [
        "Bạn có thể nghĩ rằng chúng tôi không so sánh táo với táo ở đây vì chúng tôi chưa đo điểm chuẩn cho lệnh gọi `to_device` khi sử dụng mảng thiết bị mặc dù việc truyền dữ liệu ẩn đang được tính vào điểm chuẩn khi chúng tôi sử dụng mảng máy chủ `a` và ` b`, và bạn sẽ đúng. Tất nhiên, chức năng `add_func` của chúng tôi không đặc biệt phù hợp với GPU như đã thảo luận trước đó. Phần trên chỉ nhằm mục đích chứng minh làm thế nào có thể loại bỏ việc chuyển dữ liệu.\n",
        "\n",
        "Đảm bảo đo điểm chuẩn cho quá trình truyền dữ liệu của bạn khi khám phá xem chuyến đi đến GPU có xứng đáng hay không.\n",
        "\n",
        "Ngoài ra, Numba còn cung cấp các phương pháp bổ sung để quản lý bộ nhớ thiết bị và truyền dữ liệu, hãy xem [tài liệu](https://numba.pydata.org/numba-doc/dev/cuda/memory.html) để biết đầy đủ chi tiết."
      ]
    },
    {
      "cell_type": "markdown",
      "metadata": {
        "id": "CY_2g-EafEY9"
      },
      "source": [
        "### Bài tập: Tối ưu hóa Di chuyển Bộ nhớ\n",
        "\n",
        "Đưa ra các ufunc này:"
      ]
    },
    {
      "cell_type": "code",
      "execution_count": 58,
      "metadata": {
        "id": "WjczGXAtfIzJ"
      },
      "outputs": [],
      "source": [
        "import math\n",
        "\n",
        "@vectorize(['float32(float32, float32, float32)'], target='cuda')\n",
        "def make_pulses(i, period, amplitude):\n",
        "    return max(math.sin(i / period) - 0.3, 0.0) * amplitude\n",
        "\n",
        "n = 100000\n",
        "noise = (np.random.normal(size=n) * 3).astype(np.float32)\n",
        "t = np.arange(n, dtype=np.float32)\n",
        "period = n / 23 # scalar"
      ]
    },
    {
      "cell_type": "markdown",
      "metadata": {
        "id": "Ma5h6aHbf_wh"
      },
      "source": [
        "Vì nó hiện đang ở trong cell bên dưới, nên có một vòng lặp dữ liệu không cần thiết trở lại host và sau đó quay lại device giữa các lệnh gọi `make_pulses` và `add_ufunc`.\n",
        "\n",
        "Cập nhật cell bên dưới để sử dụng phân bổ device sao cho chỉ có một bản sao vào device trước lệnh gọi `make_pulses` và một bản sao trở lại host sau lệnh gọi `add_ufunc`. Hãy xem [giải pháp](solutions/make_pulses_solution.py) nếu bạn gặp khó khăn."
      ]
    },
    {
      "cell_type": "code",
      "execution_count": 67,
      "metadata": {
        "colab": {
          "base_uri": "https://localhost:8080/"
        },
        "id": "CnPTTRTEgXQQ",
        "outputId": "92e51097-b87c-41cb-8096-81804444fd3e"
      },
      "outputs": [
        {
          "name": "stderr",
          "output_type": "stream",
          "text": [
            "/usr/local/lib/python3.10/dist-packages/numba/cuda/dispatcher.py:488: NumbaPerformanceWarning: Grid size 98 will likely result in GPU under-utilization due to low occupancy.\n",
            "  warn(NumbaPerformanceWarning(msg))\n"
          ]
        }
      ],
      "source": [
        "pulses = make_pulses(t, period, 100.0).astype(np.float32)\n",
        "waveform=add_ufunc(pulses,noise)"
      ]
    },
    {
      "cell_type": "code",
      "execution_count": 68,
      "metadata": {
        "colab": {
          "base_uri": "https://localhost:8080/",
          "height": 448
        },
        "id": "7ND3w8Lpi45n",
        "outputId": "27af8cdf-f24f-4b6d-bb43-32eb455241f5"
      },
      "outputs": [
        {
          "data": {
            "text/plain": [
              "[<matplotlib.lines.Line2D at 0x7ddf47fe3580>]"
            ]
          },
          "execution_count": 68,
          "metadata": {},
          "output_type": "execute_result"
        },
        {
          "data": {
            "image/png": "[encoded data removed]",
            "text/plain": [
              "<Figure size 640x480 with 1 Axes>"
            ]
          },
          "metadata": {},
          "output_type": "display_data"
        }
      ],
      "source": [
        "%matplotlib inline\n",
        "from matplotlib import pyplot as plt\n",
        "plt.plot(waveform)"
      ]
    },
    {
      "cell_type": "code",
      "execution_count": 69,
      "metadata": {
        "colab": {
          "base_uri": "https://localhost:8080/"
        },
        "id": "-_I8q1CfwU0H",
        "outputId": "7de0be33-fbd8-4651-8e1f-8bce9f532678"
      },
      "outputs": [
        {
          "name": "stderr",
          "output_type": "stream",
          "text": [
            "/usr/local/lib/python3.10/dist-packages/numba/cuda/dispatcher.py:488: NumbaPerformanceWarning: Grid size 98 will likely result in GPU under-utilization due to low occupancy.\n",
            "  warn(NumbaPerformanceWarning(msg))\n"
          ]
        }
      ],
      "source": [
        "# Solution:\n",
        "\n",
        "from numba import cuda\n",
        "\n",
        "t_device=cuda.to_device(t)\n",
        "noise_device=cuda.to_device(noise)\n",
        "\n",
        "pulses_out_device=cuda.device_array(shape=(n,),dtype=np.float32) # does not initialize the contents, like np.empty()\n",
        "waveform_out_device=cuda.device_array(shape=(n,),dtype=np.float32) # does not initialize the contents, like np.empty()\n",
        "\n",
        "make_pulses(t_device,period,100.0,out=pulses_out_device)\n",
        "add_ufunc(pulses_out_device,noise_device,out=waveform_out_device)\n",
        "\n",
        "waveform_host=waveform_out_device.copy_to_host()"
      ]
    },
    {
      "cell_type": "code",
      "execution_count": 70,
      "metadata": {
        "colab": {
          "base_uri": "https://localhost:8080/",
          "height": 448
        },
        "id": "ym7ewDR3xNoB",
        "outputId": "f25dafc0-b490-4dd6-c71b-aeef0ca9ba5f"
      },
      "outputs": [
        {
          "data": {
            "text/plain": [
              "[<matplotlib.lines.Line2D at 0x7ddf353d0520>]"
            ]
          },
          "execution_count": 70,
          "metadata": {},
          "output_type": "execute_result"
        },
        {
          "data": {
            "image/png": "[encoded data removed]",
            "text/plain": [
              "<Figure size 640x480 with 1 Axes>"
            ]
          },
          "metadata": {},
          "output_type": "display_data"
        }
      ],
      "source": [
        "%matplotlib inline\n",
        "from matplotlib import pyplot as plt\n",
        "plt.plot(waveform_host)"
      ]
    },
    {
      "cell_type": "markdown",
      "metadata": {
        "id": "e3dQ0sojxkDJ"
      },
      "source": [
        "## Assessment"
      ]
    },
    {
      "cell_type": "markdown",
      "metadata": {
        "id": "mRMmQA3vxnWB"
      },
      "source": [
        "Bài tập sau đây sẽ yêu cầu bạn sử dụng mọi thứ bạn đã học cho đến nay để tính toán neural network tăng tốc GPU. Không giống như các bài tập trước, sẽ không có sẵn bất kỳ mã giải pháp nào cho bạn. Cũng giống như phần này, 2 notebook còn lại trong khóa học này cũng có vấn đề về assessment. Đối với những bạn hoàn thành xuất sắc cả 3 sẽ được cấp **certificate of competency** trong khóa học.\n",
        "\n",
        "**Vui lòng đọc kỹ hướng dẫn trước khi bắt đầu công việc của bạn để đảm bảo có cơ hội tốt nhất hoàn thành thành công bài đánh giá.**\n"
      ]
    },
    {
      "cell_type": "markdown",
      "metadata": {
        "id": "enid6q3byGS9"
      },
      "source": [
        "### Tăng tốc tính toán mạng thần kinh\n",
        "\n",
        "Bạn sẽ tái cấu trúc một phiên bản đơn giản của một số mã thực hiện công việc cần thiết để tạo một lớp ẩn trong mạng thần kinh. Nó bình thường hóa các giá trị grayscale, weighs và áp dụng activation function.\n",
        "\n",
        "Nhiệm vụ của bạn là chuyển công việc này sang GPU bằng cách sử dụng các kỹ thuật bạn đã học trong khi vẫn đảm bảo tính chính xác của các phép tính."
      ]
    },
    {
      "cell_type": "markdown",
      "metadata": {
        "id": "310MsWIYyciv"
      },
      "source": [
        "### Load Imports and Initialize Values"
      ]
    },
    {
      "cell_type": "markdown",
      "metadata": {
        "id": "2_3UbuGoyej8"
      },
      "source": [
        "Chạy cell này để nhập các thư viện cần thiết và khởi tạo các giá trị trước khi bắt đầu công việc của bạn bên dưới."
      ]
    },
    {
      "cell_type": "code",
      "execution_count": 71,
      "metadata": {
        "id": "Rr_STEL-ylhc"
      },
      "outputs": [],
      "source": [
        "# You should not modify this cell, it contains imports and initial values needed to do work on either\n",
        "# the CPU or the GPU.\n",
        "\n",
        "import numpy as np\n",
        "from numba import cuda, vectorize\n",
        "\n",
        "# Our hidden layer will contain 1M neurons.\n",
        "# When you assess your work below, this value will be automatically set to 100M.\n",
        "n = 1000000\n",
        "\n",
        "greyscales = np.floor(np.random.uniform(0, 255, n).astype(np.float32))\n",
        "weights = np.random.normal(.5, .1, n).astype(np.float32)"
      ]
    },
    {
      "cell_type": "markdown",
      "metadata": {
        "id": "2kF6_IbKytLM"
      },
      "source": [
        "### GPU Accelerate"
      ]
    },
    {
      "cell_type": "markdown",
      "metadata": {
        "id": "Wgsd1Z7kyvIM"
      },
      "source": [
        "Bạn sẽ cần sửa đổi từng cell trong số 3 cell trong phần này trước khi đánh giá công việc của mình bên dưới. Thực hiện theo các hướng dẫn trong các ý kiến.\n"
      ]
    },
    {
      "cell_type": "code",
      "execution_count": 72,
      "metadata": {
        "id": "67dQm84oy5qa"
      },
      "outputs": [],
      "source": [
        "# As you will recall, `numpy.exp` works on the CPU, but, cannot be used in GPU implmentations.\n",
        "# This import will work for the CPU-only boilerplate code provided below, but\n",
        "# you will need to modify this import before your GPU implementation will work.\n",
        "\"\"\"\n",
        "from numpy import exp\n",
        "\"\"\"\n",
        "\n",
        "# Solution:\n",
        "from math import exp"
      ]
    },
    {
      "cell_type": "code",
      "execution_count": 73,
      "metadata": {
        "id": "maNC8p-8y9vN"
      },
      "outputs": [],
      "source": [
        "# Modify these 3 function calls to run on the GPU.\n",
        "\"\"\"\n",
        "def normalize(grayscales):\n",
        "    return grayscales / 255\n",
        "\n",
        "def weigh(values, weights):\n",
        "    return values * weights\n",
        "\n",
        "def activate(values):\n",
        "    return ( exp(values) - exp(-values) ) / ( exp(values) + exp(-values) )\n",
        "\"\"\"\n",
        "# Solution:\n",
        "\n",
        "@vectorize(['float32(float32)'], target = 'cuda')\n",
        "def normalize(grayscales):\n",
        "    return grayscales / 255\n",
        "\n",
        "@vectorize(['float32(float32, float32)'], target = 'cuda')\n",
        "def weigh(values, weights):\n",
        "    return values * weights\n",
        "\n",
        "@vectorize(['float32(float32)'], target = 'cuda')\n",
        "def activate(values):\n",
        "    return ( exp(values) - exp(-values) ) / ( exp(values) + exp(-values) )"
      ]
    },
    {
      "cell_type": "code",
      "execution_count": 74,
      "metadata": {
        "id": "4kKi1AnWzJ7t"
      },
      "outputs": [],
      "source": [
        "# Modify the body of this function to optimize data transfers and therefore speed up performance.\n",
        "# As a constraint, even after you move work to the GPU, make this function return a host array.\n",
        "def create_hidden_layer(n, greyscales, weights, exp, normalize, weigh, activate):\n",
        "\n",
        "    greyscales_device = cuda.to_device(greyscales)\n",
        "    weights_device = cuda.to_device(weights)\n",
        "\n",
        "    normalized_out_device = cuda.device_array(shape=(n,), dtype=np.float32)  # does not initialize the contents, like np.empty()\n",
        "    weighted_out_device = cuda.device_array(shape=(n,), dtype=np.float32)  # does not initialize the contents, like np.empty()\n",
        "    activated_out_device = cuda.device_array(shape=(n,), dtype=np.float32)  # does not initialize the contents, like np.empty()\n",
        "\n",
        "    normalize(greyscales_device, out = normalized_out_device)\n",
        "    weigh(normalized_out_device, weights_device, out = weighted_out_device)\n",
        "    activate(weighted_out_device, out = activated_out_device)\n",
        "\n",
        "    # The assessment mechanism will expect `activated` to be a host array, so,\n",
        "    # even after you refactor this code to run on the GPU, make sure to explicitly copy\n",
        "    # `activated` back to the host.\n",
        "    return activated_out_device.copy_to_host()"
      ]
    },
    {
      "cell_type": "markdown",
      "metadata": {
        "id": "icQgIv_VzsFt"
      },
      "source": [
        "### Check Your Work"
      ]
    },
    {
      "cell_type": "markdown",
      "metadata": {
        "id": "2equBW5QzuKx"
      },
      "source": [
        "Trong phần này, vui lòng kiểm tra công việc của bạn và gỡ lỗi nếu cần trước khi chạy đánh giá bên dưới."
      ]
    },
    {
      "cell_type": "code",
      "execution_count": 76,
      "metadata": {
        "id": "eM4qxYSJzxff"
      },
      "outputs": [],
      "source": [
        "# You probably don't need to edit this cell, unless you change the name of any of the values being passed as\n",
        "# arguments to `create_hidden_layer` below.\n",
        "\n",
        "arguments={\"n\":n,\n",
        "           \"greyscales\":greyscales,\n",
        "           \"weights\":weights,\n",
        "           \"exp\":exp,\n",
        "           \"normalize\":normalize,\n",
        "           \"weigh\":weigh,\n",
        "           \"activate\":activate}"
      ]
    },
    {
      "cell_type": "code",
      "execution_count": 78,
      "metadata": {
        "colab": {
          "base_uri": "https://localhost:8080/"
        },
        "id": "GA5Sos1O0kRd",
        "outputId": "5ac611c7-3afb-49b4-b2be-ddb6fb788d33"
      },
      "outputs": [
        {
          "name": "stdout",
          "output_type": "stream",
          "text": [
            "[0.08279888 0.29420075 0.2515291  ... 0.46137726 0.05098382 0.00209137]\n"
          ]
        }
      ],
      "source": [
        "# Sử dụng ô này (và thoải mái tạo các ô khác) để tự đánh giá chức năng của bạn\n",
        "a = create_hidden_layer(**arguments)\n",
        "print(a)"
      ]
    },
    {
      "cell_type": "markdown",
      "metadata": {
        "id": "XL8US2NP0uUz"
      },
      "source": [
        "### Run the Assessment"
      ]
    },
    {
      "cell_type": "markdown",
      "metadata": {
        "id": "lLskpsjl0wyV"
      },
      "source": [
        "Chạy 2 cell dưới đây để đánh giá công việc của bạn. Vì là khóa học lỏm trên git nên không đánh quá giá đc bằng thư viện của nvidia"
      ]
    },
    {
      "cell_type": "code",
      "execution_count": null,
      "metadata": {
        "id": "Rb4wHb142wBa"
      },
      "outputs": [],
      "source": [
        "from assessment import assess"
      ]
    },
    {
      "cell_type": "code",
      "execution_count": null,
      "metadata": {
        "id": "ElgRUZ2926j7"
      },
      "outputs": [],
      "source": [
        "assess(create_hidden_layer, arguments)"
      ]
    },
    {
      "cell_type": "markdown",
      "metadata": {
        "id": "s2_zMwfH3G-n"
      },
      "source": [
        "## Get Credit for Your Work"
      ]
    },
    {
      "cell_type": "markdown",
      "metadata": {
        "id": "z10-U-cJ3KoK"
      },
      "source": [
        "Sau khi vượt qua thành công bài đánh giá ở trên, hãy truy cập lại trang web nơi bạn đã khởi chạy môi trường tương tác này và nhấp vào nút **\"ASSESS TASK\"** như minh họa trong ảnh chụp màn hình bên dưới. Làm như vậy bạn sẽ được ghi công cho phần này của hội thảo và được tính vào việc kiếm được **certicficate of competency** cho toàn bộ khóa học."
      ]
    },
    {
      "cell_type": "markdown",
      "metadata": {
        "id": "c3RcIwKT3uc7"
      },
      "source": [
        "![Run the assessment](images/run_the_assessment.png)"
      ]
    },
    {
      "cell_type": "markdown",
      "metadata": {
        "id": "u9VvnC783vWp"
      },
      "source": [
        "## Tổng kết\n",
        "\n",
        "Bây giờ bạn đã hoàn thành phần này, bạn có thể:\n",
        "\n",
        "- Sử dụng Numba để biên dịch các hàm Python cho CPU\n",
        "- Hiểu cách Numba biên dịch các hàm\n",
        "- GPU tăng tốc NumPy ufuncs\n",
        "- GPU tăng tốc các chức năng véc tơ viết tay\n",
        "- Tối ưu hóa việc truyền bộ nhớ giữa máy chủ CPU và thiết bị GPU"
      ]
    },
    {
      "cell_type": "markdown",
      "metadata": {
        "id": "SAGJVPAw4Dig"
      },
      "source": [
        "## Download Content\n",
        "\n",
        "Để tải xuống nội dung của notebook này, hãy thực hiện ô sau rồi nhấp vào liên kết tải xuống bên dưới. Lưu ý: Nếu bạn chạy notebook này trên máy chủ Jupyter cục bộ, bạn có thể mong đợi một số liên kết đường dẫn tệp trong notebook bị hỏng khi chúng được định hình cho nền tảng của riêng chúng tôi. Bạn vẫn có thể điều hướng đến các tệp thông qua trình điều hướng tệp Jupyter."
      ]
    },
    {
      "cell_type": "code",
      "execution_count": null,
      "metadata": {
        "id": "lLaq4PnW4We4"
      },
      "outputs": [],
      "source": [
        "!tar -zcvf section1.tar.gz ."
      ]
    },
    {
      "cell_type": "markdown",
      "metadata": {
        "id": "0hGywyF54YOQ"
      },
      "source": [
        "[Download files from this section.](files/section1.tar.gz)"
      ]
    },
    {
      "cell_type": "markdown",
      "metadata": {
        "id": "FuiZh_vr4aLw"
      },
      "source": [
        "## Phụ lục: Ufunc tổng quát\n",
        "\n",
        "Ufuncs broadcast một hàm vô hướng trên các đầu vào mảng nhưng nếu bạn muốn phát một hàm mảng chiều thấp hơn trên một mảng chiều cao hơn thì sao? Đây được gọi là * generalize ufunc * (\"gufunc\") và nó mở ra một biên giới hoàn toàn mới để áp dụng ufunc.\n",
        "\n",
        "Các ufunc tổng quát phức tạp hơn một chút vì chúng cần một *signature* (đừng nhầm với Numba type signature) hiển thị thứ tự index khi xử lý nhiều đầu vào. Giải thích đầy đủ về chữ ký \"gufunc\" nằm ngoài phạm vi của hướng dẫn này, nhưng bạn có thể tìm hiểu thêm từ:\n",
        "\n",
        "* Tài liệu NumPy trên gufuncs: https://docs.scipy.org/doc/numpy/reference/c-api.generalized-ufuncs.html\n",
        "* Tài liệu Numba về gufunc: http://numba.pydata.org/numba-doc/latest/user/vectorize.html#the-guvectorize-decorator\n",
        "* Tài liệu Numba về gufuncs CUDA: http://numba.pydata.org/numba-doc/latest/cuda/ufunc.html#Generalized-cuda-ufuncs\n",
        "\n",
        "Hãy viết hàm chuẩn hóa của riêng chúng ta. Điều này sẽ lấy một đầu vào mảng và tính toán định mức L2 dọc theo chiều cuối cùng. Các generalized ufuncs lấy mảng đầu ra của chúng làm đối số cuối cùng, thay vì trả về một giá trị. Nếu đầu ra là một số vô hướng, thì chúng ta vẫn sẽ nhận được một mảng nhỏ hơn một chiều so với đầu vào của mảng. Ví dụ: tính tổng các hàng của một mảng sẽ trả về mảng 1 chiều cho đầu vào mảng 2D hoặc mảng 2D cho đầu vào mảng 3D."
      ]
    },
    {
      "cell_type": "code",
      "execution_count": 82,
      "metadata": {
        "id": "3wrtOl_g5Uf0"
      },
      "outputs": [],
      "source": [
        "from numba import guvectorize\n",
        "import math\n",
        "\n",
        "@guvectorize(['(float32[:], float32[:])'], # have to include the output array in the type signature\n",
        "             '(i)->()',                 # map a 1D array to a scalar output\n",
        "             target='cuda')\n",
        "def l2_norm(vec, out):\n",
        "    acc = 0.0\n",
        "    for value in vec:\n",
        "        acc += value**2\n",
        "    out[0] = math.sqrt(acc)"
      ]
    },
    {
      "cell_type": "markdown",
      "metadata": {
        "id": "2Rtnwna55gaZ"
      },
      "source": [
        "Để kiểm tra điều này, hãy dựng một số điểm trên đường tròn đơn vị:"
      ]
    },
    {
      "cell_type": "code",
      "execution_count": 83,
      "metadata": {
        "colab": {
          "base_uri": "https://localhost:8080/"
        },
        "id": "RfdaIdn_5h7E",
        "outputId": "434092e8-5c92-4745-f602-2a9ecf5698ac"
      },
      "outputs": [
        {
          "name": "stdout",
          "output_type": "stream",
          "text": [
            "[[-0.3808377   0.9246419 ]\n",
            " [ 0.92239862  0.38623929]\n",
            " [ 0.36236044  0.93203804]\n",
            " [ 0.99614571 -0.08771382]\n",
            " [ 0.06344515  0.99798533]\n",
            " [-0.64574945  0.76354937]\n",
            " [ 0.99874819  0.05002057]\n",
            " [ 0.28795105  0.95764513]\n",
            " [-0.58274395 -0.81265582]\n",
            " [-0.98250882  0.18621605]]\n"
          ]
        }
      ],
      "source": [
        "angles = np.random.uniform(-np.pi, np.pi, 10)\n",
        "coords = np.stack([np.cos(angles), np.sin(angles)], axis=1)\n",
        "print(coords)"
      ]
    },
    {
      "cell_type": "markdown",
      "metadata": {
        "id": "quMAWpL75tX1"
      },
      "source": [
        "Như mong đợi, định mức L2 là 1,0, cho đến sai số làm tròn:"
      ]
    },
    {
      "cell_type": "code",
      "execution_count": 84,
      "metadata": {
        "colab": {
          "base_uri": "https://localhost:8080/"
        },
        "id": "Iokh3rxm5t8V",
        "outputId": "b06d7848-6f43-4867-c3ba-f37fb449c605"
      },
      "outputs": [
        {
          "name": "stderr",
          "output_type": "stream",
          "text": [
            "/usr/local/lib/python3.10/dist-packages/numba/cuda/dispatcher.py:488: NumbaPerformanceWarning: Grid size 1 will likely result in GPU under-utilization due to low occupancy.\n",
            "  warn(NumbaPerformanceWarning(msg))\n"
          ]
        },
        {
          "data": {
            "text/plain": [
              "array([1.        , 1.        , 1.        , 1.        , 1.        ,\n",
              "       1.        , 1.        , 1.        , 0.99999994, 1.        ],\n",
              "      dtype=float32)"
            ]
          },
          "execution_count": 84,
          "metadata": {},
          "output_type": "execute_result"
        }
      ],
      "source": [
        "l2_norm(coords)"
      ]
    },
    {
      "cell_type": "markdown",
      "metadata": {
        "id": "LPe1ybh_5yBe"
      },
      "source": [
        "<a href=\"https://www.nvidia.com/dli\"> <img src=\"images/DLI Header.png\" alt=\"Header\" style=\"width: 400px;\"/> </a>"
      ]
    }
  ],
  "metadata": {
    "accelerator": "GPU",
    "colab": {
      "gpuType": "T4",
      "provenance": []
    },
    "kernelspec": {
      "display_name": "Python 3",
      "name": "python3"
    },
    "language_info": {
      "name": "python"
    }
  },
  "nbformat": 4,
  "nbformat_minor": 0
}
